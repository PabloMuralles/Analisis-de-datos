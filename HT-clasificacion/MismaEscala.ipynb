{
 "cells": [
  {
   "cell_type": "code",
   "execution_count": 1,
   "metadata": {},
   "outputs": [],
   "source": [
    "import numpy as np\n",
    "import matplotlib.pyplot as plt\n",
    "import pandas as pd\n",
    "import sklearn\n",
    "from sklearn.preprocessing import LabelEncoder\n",
    "import os\n",
    "import pyodbc"
   ]
  },
  {
   "cell_type": "code",
   "execution_count": 2,
   "metadata": {},
   "outputs": [],
   "source": [
    "conexion = pyodbc.connect('Driver={SQL Server};'\n",
    "'Server=DESKTOP-34T1EIQ;'\n",
    "'Database=RepuestosWeb;'\n",
    "'Trusted_Connection=yes;', timeout=5000)"
   ]
  },
  {
   "cell_type": "code",
   "execution_count": 3,
   "metadata": {},
   "outputs": [
    {
     "data": {
      "text/html": [
       "<div>\n",
       "<style scoped>\n",
       "    .dataframe tbody tr th:only-of-type {\n",
       "        vertical-align: middle;\n",
       "    }\n",
       "\n",
       "    .dataframe tbody tr th {\n",
       "        vertical-align: top;\n",
       "    }\n",
       "\n",
       "    .dataframe thead th {\n",
       "        text-align: right;\n",
       "    }\n",
       "</style>\n",
       "<table border=\"1\" class=\"dataframe\">\n",
       "  <thead>\n",
       "    <tr style=\"text-align: right;\">\n",
       "      <th></th>\n",
       "      <th>NombreCiudad</th>\n",
       "      <th>Genero</th>\n",
       "      <th>ID_Parte</th>\n",
       "      <th>ID_Categoria</th>\n",
       "      <th>TotalEncimaPromedio</th>\n",
       "    </tr>\n",
       "  </thead>\n",
       "  <tbody>\n",
       "    <tr>\n",
       "      <th>0</th>\n",
       "      <td>Greensboro</td>\n",
       "      <td>F</td>\n",
       "      <td>AC2801112CORE-ORIG.REC</td>\n",
       "      <td>5205</td>\n",
       "      <td>1</td>\n",
       "    </tr>\n",
       "    <tr>\n",
       "      <th>1</th>\n",
       "      <td>Atlanta</td>\n",
       "      <td>F</td>\n",
       "      <td>AC1249108</td>\n",
       "      <td>3415</td>\n",
       "      <td>0</td>\n",
       "    </tr>\n",
       "    <tr>\n",
       "      <th>2</th>\n",
       "      <td>Kansas</td>\n",
       "      <td>M</td>\n",
       "      <td>AC2519109N-ORIG.REC</td>\n",
       "      <td>4863</td>\n",
       "      <td>0</td>\n",
       "    </tr>\n",
       "    <tr>\n",
       "      <th>3</th>\n",
       "      <td>Aurora</td>\n",
       "      <td>F</td>\n",
       "      <td>AC1251102</td>\n",
       "      <td>3537</td>\n",
       "      <td>1</td>\n",
       "    </tr>\n",
       "    <tr>\n",
       "      <th>4</th>\n",
       "      <td>Baltimore</td>\n",
       "      <td>F</td>\n",
       "      <td>AC1321101</td>\n",
       "      <td>3479</td>\n",
       "      <td>1</td>\n",
       "    </tr>\n",
       "    <tr>\n",
       "      <th>5</th>\n",
       "      <td>St. Paul</td>\n",
       "      <td>F</td>\n",
       "      <td>AC1240119PP</td>\n",
       "      <td>3425</td>\n",
       "      <td>1</td>\n",
       "    </tr>\n",
       "    <tr>\n",
       "      <th>6</th>\n",
       "      <td>Little Rock</td>\n",
       "      <td>F</td>\n",
       "      <td>AC1241123C-ORIG.REC</td>\n",
       "      <td>3416</td>\n",
       "      <td>0</td>\n",
       "    </tr>\n",
       "    <tr>\n",
       "      <th>7</th>\n",
       "      <td>Bakersfield</td>\n",
       "      <td>F</td>\n",
       "      <td>AC2518111NIQ-ORIG.REC</td>\n",
       "      <td>4035</td>\n",
       "      <td>1</td>\n",
       "    </tr>\n",
       "    <tr>\n",
       "      <th>8</th>\n",
       "      <td>Oklahoma</td>\n",
       "      <td>F</td>\n",
       "      <td>AC2800110NIQ</td>\n",
       "      <td>2923</td>\n",
       "      <td>1</td>\n",
       "    </tr>\n",
       "    <tr>\n",
       "      <th>9</th>\n",
       "      <td>Aurora</td>\n",
       "      <td>F</td>\n",
       "      <td>AC1248114</td>\n",
       "      <td>1356</td>\n",
       "      <td>1</td>\n",
       "    </tr>\n",
       "  </tbody>\n",
       "</table>\n",
       "</div>"
      ],
      "text/plain": [
       "  NombreCiudad Genero                ID_Parte  ID_Categoria  \\\n",
       "0   Greensboro      F  AC2801112CORE-ORIG.REC          5205   \n",
       "1      Atlanta      F               AC1249108          3415   \n",
       "2       Kansas      M     AC2519109N-ORIG.REC          4863   \n",
       "3       Aurora      F               AC1251102          3537   \n",
       "4    Baltimore      F               AC1321101          3479   \n",
       "5     St. Paul      F             AC1240119PP          3425   \n",
       "6  Little Rock      F     AC1241123C-ORIG.REC          3416   \n",
       "7  Bakersfield      F   AC2518111NIQ-ORIG.REC          4035   \n",
       "8     Oklahoma      F            AC2800110NIQ          2923   \n",
       "9       Aurora      F               AC1248114          1356   \n",
       "\n",
       "   TotalEncimaPromedio  \n",
       "0                    1  \n",
       "1                    0  \n",
       "2                    0  \n",
       "3                    1  \n",
       "4                    1  \n",
       "5                    1  \n",
       "6                    0  \n",
       "7                    1  \n",
       "8                    1  \n",
       "9                    1  "
      ]
     },
     "execution_count": 3,
     "metadata": {},
     "output_type": "execute_result"
    }
   ],
   "source": [
    "df_Orders=pd.read_sql(\"select * from VW_OrdenesEncimaPromedio\", conexion)\n",
    "#se quita total orden debido a que totalencima promedio ya calcula si el total \n",
    "#orden esta arriba o abajo de la medicion que buscamos por lo que es incesario\n",
    "df_Orders.drop('Total_Orden', axis=1, inplace=True)\n",
    "df_Orders.head(10)"
   ]
  },
  {
   "cell_type": "code",
   "execution_count": 4,
   "metadata": {},
   "outputs": [],
   "source": [
    "#almacenar las variables x y y\n",
    "#esto es para poder tener las variables dependientes e indipendientes\n",
    "#independientes variables de entradas que identifican los atributos de cada uno de los elementos\n",
    "#variable dependiente  que son las salida que son las que dependen de las de entrada para que se cumplan\n",
    "\n",
    "x=df_Orders.iloc[:, 0:4].values\n",
    "\n",
    "y=df_Orders.iloc[:,-1].values\n",
    "#esto se vuelve un arreglo"
   ]
  },
  {
   "cell_type": "code",
   "execution_count": 5,
   "metadata": {},
   "outputs": [
    {
     "data": {
      "text/plain": [
       "array([[34, 0, 328, 3881],\n",
       "       [5, 0, 137, 2657],\n",
       "       [42, 1, 271, 3745],\n",
       "       ...,\n",
       "       [87, 1, 11895, 5359],\n",
       "       [8, 0, 11898, 5705],\n",
       "       [34, 0, 11900, 5692]], dtype=object)"
      ]
     },
     "execution_count": 5,
     "metadata": {},
     "output_type": "execute_result"
    }
   ],
   "source": [
    "#aplicar encoder\n",
    "#podermo codificar atriutos no numericos segun una escala\n",
    "\n",
    "le = LabelEncoder()\n",
    "x[:,0] = le.fit_transform(x[:,0])\n",
    "x[:,1] = le.fit_transform(x[:,1])\n",
    "x[:,2] = le.fit_transform(x[:,2])\n",
    "x[:,3] = le.fit_transform(x[:,3])\n",
    "x"
   ]
  },
  {
   "cell_type": "code",
   "execution_count": 6,
   "metadata": {},
   "outputs": [],
   "source": [
    "#dividimos los datos para poder tener datos para entrenamiento y otros para test\n",
    "#se usa sckikit learn para llamar a la funcion split y lo dividimos en 80/20\n",
    "from sklearn.model_selection import train_test_split\n",
    "x_train, x_test, y_train, y_test = train_test_split(x,y, test_size=0.20, random_state=0)\n"
   ]
  },
  {
   "cell_type": "code",
   "execution_count": 8,
   "metadata": {},
   "outputs": [
    {
     "data": {
      "text/plain": [
       "array([[-0.00411038,  0.96806859,  0.52064235,  0.53820817],\n",
       "       [ 1.6748242 ,  0.96806859, -0.98326992,  0.56285424],\n",
       "       [ 1.06754999, -1.03298465,  0.2961432 , -1.64296905],\n",
       "       ...,\n",
       "       [ 0.99610597, -1.03298465,  0.93889529, -0.8989658 ],\n",
       "       [ 0.10305566,  0.96806859,  1.5152258 , -0.39341329],\n",
       "       [-0.0755544 ,  0.96806859, -1.08971849, -0.19747703]])"
      ]
     },
     "execution_count": 8,
     "metadata": {},
     "output_type": "execute_result"
    }
   ],
   "source": [
    "#en ciertos casoss las escalas entre los datos van a estar muy diferentes como por ejemplo 100 robos al años en comparacion de 10 muertes por años\n",
    "## en estos casos es mejor llevarlo a todo a una misma escala por meido de promedios\n",
    "from sklearn.preprocessing import StandardScaler\n",
    "sc = StandardScaler()\n",
    "x_train = sc.fit_transform(x_train)\n",
    "x_test = sc.transform(x_test)\n",
    "x_train\n",
    "#estos numero serca de uno por lo que si estan abajo de uno estan abajo del promeido y si estan arrriba de uno estan arriba del promedio esto para poder llevarlo a una misma escala"
   ]
  },
  {
   "cell_type": "code",
   "execution_count": 9,
   "metadata": {},
   "outputs": [
    {
     "data": {
      "text/plain": [
       "GaussianNB(priors=None, var_smoothing=1e-09)"
      ]
     },
     "execution_count": 9,
     "metadata": {},
     "output_type": "execute_result"
    }
   ],
   "source": [
    "#crear modelo NB\n",
    "from sklearn.naive_bayes import GaussianNB\n",
    "classifier=GaussianNB()\n",
    "classifier.fit(x_train,y_train)"
   ]
  },
  {
   "cell_type": "code",
   "execution_count": 10,
   "metadata": {},
   "outputs": [
    {
     "data": {
      "text/plain": [
       "array([0, 1, 1, ..., 0, 1, 0], dtype=int64)"
      ]
     },
     "execution_count": 10,
     "metadata": {},
     "output_type": "execute_result"
    }
   ],
   "source": [
    "#predecimos la varible dependiente usando las variables independientes del 20%\n",
    "y_pred = classifier.predict(x_test)\n",
    "y_pred"
   ]
  },
  {
   "cell_type": "code",
   "execution_count": 11,
   "metadata": {},
   "outputs": [
    {
     "data": {
      "text/plain": [
       "array([0, 0, 0, ..., 1, 0, 1], dtype=int64)"
      ]
     },
     "execution_count": 11,
     "metadata": {},
     "output_type": "execute_result"
    }
   ],
   "source": [
    "#con esto podriamos comparar manualmente uno por uno pero es mejor hacer la matriz de confucion\n",
    "y_test"
   ]
  },
  {
   "cell_type": "code",
   "execution_count": 12,
   "metadata": {},
   "outputs": [],
   "source": [
    "#generarmos la matriz de confucion y precision\n",
    "from sklearn.metrics import confusion_matrix,accuracy_score\n",
    "cm = confusion_matrix(y_test, y_pred) #crea la matriz de confucion \n",
    "ac = accuracy_score(y_test,y_pred) #define la presicion"
   ]
  },
  {
   "cell_type": "code",
   "execution_count": 13,
   "metadata": {},
   "outputs": [
    {
     "data": {
      "text/plain": [
       "array([[242, 959],\n",
       "       [221, 960]], dtype=int64)"
      ]
     },
     "execution_count": 13,
     "metadata": {},
     "output_type": "execute_result"
    }
   ],
   "source": [
    "#matriz de confusion\n",
    "cm"
   ]
  },
  {
   "cell_type": "code",
   "execution_count": 14,
   "metadata": {},
   "outputs": [
    {
     "data": {
      "text/plain": [
       "0.5046179680940386"
      ]
     },
     "execution_count": 14,
     "metadata": {},
     "output_type": "execute_result"
    }
   ],
   "source": [
    "#presicion\n",
    "ac"
   ]
  },
  {
   "cell_type": "code",
   "execution_count": null,
   "metadata": {},
   "outputs": [],
   "source": []
  }
 ],
 "metadata": {
  "interpreter": {
   "hash": "b89b5cfaba6639976dc87ff2fec6d58faec662063367e2c229c520fe71072417"
  },
  "kernelspec": {
   "display_name": "Python 3.10.0 64-bit",
   "language": "python",
   "name": "python3"
  },
  "language_info": {
   "codemirror_mode": {
    "name": "ipython",
    "version": 3
   },
   "file_extension": ".py",
   "mimetype": "text/x-python",
   "name": "python",
   "nbconvert_exporter": "python",
   "pygments_lexer": "ipython3",
   "version": "3.7.1"
  },
  "orig_nbformat": 4
 },
 "nbformat": 4,
 "nbformat_minor": 2
}
