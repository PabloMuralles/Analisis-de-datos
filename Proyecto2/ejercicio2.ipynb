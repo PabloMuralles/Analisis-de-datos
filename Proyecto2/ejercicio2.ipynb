{
 "cells": [
  {
   "cell_type": "code",
   "execution_count": 273,
   "metadata": {},
   "outputs": [],
   "source": [
    "import numpy as np\n",
    "import matplotlib.pyplot as plt\n",
    "import pandas as pd\n",
    "import sklearn\n",
    "from sklearn.preprocessing import LabelEncoder\n",
    "import os\n",
    "import pyodbc"
   ]
  },
  {
   "cell_type": "code",
   "execution_count": 274,
   "metadata": {},
   "outputs": [],
   "source": [
    "conexion = pyodbc.connect('Driver={SQL Server};'\n",
    "'Server=DESKTOP-34T1EIQ;'\n",
    "'Database=RepuestosWeb;'\n",
    "'Trusted_Connection=yes;', timeout=5000)"
   ]
  },
  {
   "cell_type": "markdown",
   "metadata": {},
   "source": [
    "## Primera Vista"
   ]
  },
  {
   "cell_type": "code",
   "execution_count": 275,
   "metadata": {},
   "outputs": [
    {
     "data": {
      "text/html": [
       "<div>\n",
       "<style scoped>\n",
       "    .dataframe tbody tr th:only-of-type {\n",
       "        vertical-align: middle;\n",
       "    }\n",
       "\n",
       "    .dataframe tbody tr th {\n",
       "        vertical-align: top;\n",
       "    }\n",
       "\n",
       "    .dataframe thead th {\n",
       "        text-align: right;\n",
       "    }\n",
       "</style>\n",
       "<table border=\"1\" class=\"dataframe\">\n",
       "  <thead>\n",
       "    <tr style=\"text-align: right;\">\n",
       "      <th></th>\n",
       "      <th>ID_Categoria</th>\n",
       "      <th>ID_Parte</th>\n",
       "      <th>Ciudad</th>\n",
       "      <th>TotalEncimaPromedio</th>\n",
       "    </tr>\n",
       "  </thead>\n",
       "  <tbody>\n",
       "    <tr>\n",
       "      <th>0</th>\n",
       "      <td>1626</td>\n",
       "      <td>ABPDG1003V6</td>\n",
       "      <td>Jackson</td>\n",
       "      <td>0</td>\n",
       "    </tr>\n",
       "    <tr>\n",
       "      <th>1</th>\n",
       "      <td>1124</td>\n",
       "      <td>668ADJUST</td>\n",
       "      <td>Honolulu</td>\n",
       "      <td>0</td>\n",
       "    </tr>\n",
       "    <tr>\n",
       "      <th>2</th>\n",
       "      <td>1159</td>\n",
       "      <td>AC1038109</td>\n",
       "      <td>Miami</td>\n",
       "      <td>1</td>\n",
       "    </tr>\n",
       "    <tr>\n",
       "      <th>3</th>\n",
       "      <td>1093</td>\n",
       "      <td>225TEMP999</td>\n",
       "      <td>Charlotte</td>\n",
       "      <td>1</td>\n",
       "    </tr>\n",
       "    <tr>\n",
       "      <th>4</th>\n",
       "      <td>147</td>\n",
       "      <td>*661MISC</td>\n",
       "      <td>Houston</td>\n",
       "      <td>0</td>\n",
       "    </tr>\n",
       "  </tbody>\n",
       "</table>\n",
       "</div>"
      ],
      "text/plain": [
       "   ID_Categoria     ID_Parte     Ciudad  TotalEncimaPromedio\n",
       "0          1626  ABPDG1003V6    Jackson                    0\n",
       "1          1124    668ADJUST   Honolulu                    0\n",
       "2          1159    AC1038109      Miami                    1\n",
       "3          1093   225TEMP999  Charlotte                    1\n",
       "4           147     *661MISC    Houston                    0"
      ]
     },
     "execution_count": 275,
     "metadata": {},
     "output_type": "execute_result"
    }
   ],
   "source": [
    "df_VW_CantidadCotizacionEncimaPromedio=pd.read_sql(\"select * from VW_CantidadCotizacionEncimaPromedio\", conexion)\n",
    "df_VW_CantidadCotizacionEncimaPromedio.head(5)\n"
   ]
  },
  {
   "cell_type": "code",
   "execution_count": 276,
   "metadata": {},
   "outputs": [
    {
     "data": {
      "text/plain": [
       "array([[1626, 'ABPDG1003V6', 'Jackson'],\n",
       "       [1124, '668ADJUST', 'Honolulu'],\n",
       "       [1159, 'AC1038109', 'Miami'],\n",
       "       ...,\n",
       "       [10442, 'ALY01540U45-ORIG.REC', 'El Paso'],\n",
       "       [10448, 'ALY01573U10U1-ORIG.REC', 'Las Vegas'],\n",
       "       [10467, 'ALY01578U50', 'Arlington']], dtype=object)"
      ]
     },
     "execution_count": 276,
     "metadata": {},
     "output_type": "execute_result"
    }
   ],
   "source": [
    "#x=dependientes\n",
    "x1=df_VW_CantidadCotizacionEncimaPromedio.iloc[:, 0:3].values\n",
    "#y=independientes\n",
    "y1=df_VW_CantidadCotizacionEncimaPromedio.iloc[:,-1].values\n",
    "#esto se vuelve un arreglo\n",
    "x1"
   ]
  },
  {
   "cell_type": "code",
   "execution_count": 277,
   "metadata": {},
   "outputs": [
    {
     "data": {
      "text/plain": [
       "array([[1418, 616, 39],\n",
       "       [974, 223, 36],\n",
       "       [1006, 1272, 53],\n",
       "       ...,\n",
       "       [9107, 12133, 26],\n",
       "       [9108, 12190, 43],\n",
       "       [9115, 12195, 4]], dtype=object)"
      ]
     },
     "execution_count": 277,
     "metadata": {},
     "output_type": "execute_result"
    }
   ],
   "source": [
    "#aplicar encoder\n",
    "#podermo codificar atriutos no numericos segun una escala\n",
    "\n",
    "le = LabelEncoder()\n",
    "x1[:,0] = le.fit_transform(x1[:,0])\n",
    "x1[:,1] = le.fit_transform(x1[:,1])\n",
    "x1[:,2] = le.fit_transform(x1[:,2])\n",
    "x1"
   ]
  },
  {
   "cell_type": "code",
   "execution_count": 278,
   "metadata": {},
   "outputs": [],
   "source": [
    "#dividimos los datos para poder tener datos para entrenamiento y otros para test\n",
    "#se usa sckikit learn para llamar a la funcion split y lo dividimos en 80/20\n",
    "from sklearn.model_selection import train_test_split\n",
    "x_train1, x_test1, y_train1, y_test1 = train_test_split(x1,y1, test_size=0.20, random_state=0)\n"
   ]
  },
  {
   "cell_type": "code",
   "execution_count": 279,
   "metadata": {},
   "outputs": [
    {
     "data": {
      "text/plain": [
       "GaussianNB()"
      ]
     },
     "execution_count": 279,
     "metadata": {},
     "output_type": "execute_result"
    }
   ],
   "source": [
    "#crear modelo NB\n",
    "from sklearn.naive_bayes import GaussianNB\n",
    "classifier=GaussianNB()\n",
    "classifier.fit(x_train1,y_train1)"
   ]
  },
  {
   "cell_type": "code",
   "execution_count": 280,
   "metadata": {},
   "outputs": [
    {
     "data": {
      "text/plain": [
       "array([0, 0, 0, ..., 0, 0, 0], dtype=int64)"
      ]
     },
     "execution_count": 280,
     "metadata": {},
     "output_type": "execute_result"
    }
   ],
   "source": [
    "#predecimos la varible dependiente usando las variables independientes del 20%\n",
    "y_pred1 = classifier.predict(x_test1)\n",
    "y_pred1"
   ]
  },
  {
   "cell_type": "code",
   "execution_count": 281,
   "metadata": {},
   "outputs": [],
   "source": [
    "#generarmos la matriz de confucion y precision\n",
    "from sklearn.metrics import confusion_matrix,accuracy_score\n",
    "cm1 = confusion_matrix(y_test1, y_pred1) #crea la matriz de confucion \n",
    "ac1 = accuracy_score(y_test1,y_pred1) #define la presicion"
   ]
  },
  {
   "cell_type": "code",
   "execution_count": 282,
   "metadata": {},
   "outputs": [
    {
     "data": {
      "text/plain": [
       "array([[2264,    0],\n",
       "       [ 194,    0]], dtype=int64)"
      ]
     },
     "execution_count": 282,
     "metadata": {},
     "output_type": "execute_result"
    }
   ],
   "source": [
    "cm1"
   ]
  },
  {
   "cell_type": "code",
   "execution_count": 283,
   "metadata": {},
   "outputs": [
    {
     "data": {
      "text/plain": [
       "0.9210740439381611"
      ]
     },
     "execution_count": 283,
     "metadata": {},
     "output_type": "execute_result"
    }
   ],
   "source": [
    "ac1"
   ]
  },
  {
   "cell_type": "code",
   "execution_count": 284,
   "metadata": {},
   "outputs": [
    {
     "data": {
      "image/png": "[encoded data removed]",
      "text/plain": [
       "<Figure size 432x288 with 2 Axes>"
      ]
     },
     "metadata": {
      "needs_background": "light"
     },
     "output_type": "display_data"
    }
   ],
   "source": [
    "#ploteamos la matriz de confucion(heatmap)\n",
    "import seaborn as sns\n",
    "\n",
    "ax=plt.subplot()\n",
    "sns.heatmap(cm1,annot=True, fmt='g', ax=ax, cmap='Greens'); ##annot= true crea abitacuibes be las celdas para crear etiquetas, fmt=g quita la notacion cientifica para quitar las celtas , cmap mostrar colores en verdes, ax es el subplot parte del plot\n",
    "\n",
    "ax.set_xlabel('Predicciones');ax.set_ylabel('Valores reales'); #etiquetas para los ejes\n",
    "ax.set_title('Matriz de Confusion');#titulos\n",
    "ax.xaxis.set_ticklabels(['True','False']); ax.yaxis.set_ticklabels(['True','False']);#son etiquetas de clasificacion de la matriz"
   ]
  },
  {
   "cell_type": "markdown",
   "metadata": {},
   "source": [
    "## Segunda Vista "
   ]
  },
  {
   "cell_type": "code",
   "execution_count": 285,
   "metadata": {},
   "outputs": [
    {
     "data": {
      "text/html": [
       "<div>\n",
       "<style scoped>\n",
       "    .dataframe tbody tr th:only-of-type {\n",
       "        vertical-align: middle;\n",
       "    }\n",
       "\n",
       "    .dataframe tbody tr th {\n",
       "        vertical-align: top;\n",
       "    }\n",
       "\n",
       "    .dataframe thead th {\n",
       "        text-align: right;\n",
       "    }\n",
       "</style>\n",
       "<table border=\"1\" class=\"dataframe\">\n",
       "  <thead>\n",
       "    <tr style=\"text-align: right;\">\n",
       "      <th></th>\n",
       "      <th>NombreCiudad</th>\n",
       "      <th>Genero</th>\n",
       "      <th>ID_Parte</th>\n",
       "      <th>ID_Categoria</th>\n",
       "      <th>TotalCantidadEncimaPromedio</th>\n",
       "    </tr>\n",
       "  </thead>\n",
       "  <tbody>\n",
       "    <tr>\n",
       "      <th>0</th>\n",
       "      <td>San Diego</td>\n",
       "      <td>M</td>\n",
       "      <td>AC1100173CORE-ORIG.REC</td>\n",
       "      <td>1612</td>\n",
       "      <td>0</td>\n",
       "    </tr>\n",
       "    <tr>\n",
       "      <th>1</th>\n",
       "      <td>Tacoma</td>\n",
       "      <td>F</td>\n",
       "      <td>AC1320108-ORIG.REC</td>\n",
       "      <td>2827</td>\n",
       "      <td>0</td>\n",
       "    </tr>\n",
       "    <tr>\n",
       "      <th>2</th>\n",
       "      <td>Akron</td>\n",
       "      <td>M</td>\n",
       "      <td>AC1228119-ORIG.REC</td>\n",
       "      <td>3154</td>\n",
       "      <td>0</td>\n",
       "    </tr>\n",
       "    <tr>\n",
       "      <th>3</th>\n",
       "      <td>Richmond</td>\n",
       "      <td>M</td>\n",
       "      <td>AC1217107</td>\n",
       "      <td>3225</td>\n",
       "      <td>0</td>\n",
       "    </tr>\n",
       "    <tr>\n",
       "      <th>4</th>\n",
       "      <td>Dallas</td>\n",
       "      <td>F</td>\n",
       "      <td>AC2519105-ORIG.REC</td>\n",
       "      <td>4241</td>\n",
       "      <td>0</td>\n",
       "    </tr>\n",
       "  </tbody>\n",
       "</table>\n",
       "</div>"
      ],
      "text/plain": [
       "  NombreCiudad Genero                ID_Parte  ID_Categoria  \\\n",
       "0    San Diego      M  AC1100173CORE-ORIG.REC          1612   \n",
       "1       Tacoma      F      AC1320108-ORIG.REC          2827   \n",
       "2        Akron      M      AC1228119-ORIG.REC          3154   \n",
       "3     Richmond      M               AC1217107          3225   \n",
       "4       Dallas      F      AC2519105-ORIG.REC          4241   \n",
       "\n",
       "   TotalCantidadEncimaPromedio  \n",
       "0                            0  \n",
       "1                            0  \n",
       "2                            0  \n",
       "3                            0  \n",
       "4                            0  "
      ]
     },
     "execution_count": 285,
     "metadata": {},
     "output_type": "execute_result"
    }
   ],
   "source": [
    "dfVW_CantidadPartesEncimaPromedio=pd.read_sql(\"select * from VW_CantidadPartesEncimaPromedio\", conexion)\n",
    "dfVW_CantidadPartesEncimaPromedio.head(5)"
   ]
  },
  {
   "cell_type": "code",
   "execution_count": 286,
   "metadata": {},
   "outputs": [
    {
     "data": {
      "text/plain": [
       "array([['San Diego', 'M', 'AC1100173CORE-ORIG.REC', 1612],\n",
       "       ['Tacoma', 'F', 'AC1320108-ORIG.REC', 2827],\n",
       "       ['Akron', 'M', 'AC1228119-ORIG.REC', 3154],\n",
       "       ...,\n",
       "       ['Tacoma', 'M', 'ALY01608U', 9394],\n",
       "       ['Bakersfield', 'F', 'ALY01610U55U1', 10049],\n",
       "       ['Greensboro', 'F', 'ALY01618U10U1', 10026]], dtype=object)"
      ]
     },
     "execution_count": 286,
     "metadata": {},
     "output_type": "execute_result"
    }
   ],
   "source": [
    "#x=dependientes\n",
    "x2=dfVW_CantidadPartesEncimaPromedio.iloc[:, 0:4].values\n",
    "#y=independientes\n",
    "y2=dfVW_CantidadPartesEncimaPromedio.iloc[:,-1].values\n",
    "#esto se vuelve un arreglo\n",
    "x2"
   ]
  },
  {
   "cell_type": "code",
   "execution_count": 287,
   "metadata": {},
   "outputs": [
    {
     "data": {
      "text/plain": [
       "array([[76, 1, 3, 1089],\n",
       "       [87, 0, 159, 2120],\n",
       "       [0, 1, 78, 2421],\n",
       "       ...,\n",
       "       [87, 1, 11895, 5359],\n",
       "       [8, 0, 11898, 5705],\n",
       "       [34, 0, 11900, 5692]], dtype=object)"
      ]
     },
     "execution_count": 287,
     "metadata": {},
     "output_type": "execute_result"
    }
   ],
   "source": [
    "#aplicar encoder\n",
    "#podermo codificar atriutos no numericos segun una escala\n",
    "\n",
    "le = LabelEncoder()\n",
    "x2[:,0] = le.fit_transform(x2[:,0])\n",
    "x2[:,1] = le.fit_transform(x2[:,1])\n",
    "x2[:,2] = le.fit_transform(x2[:,2])\n",
    "x2[:,3] = le.fit_transform(x2[:,3])\n",
    "x2"
   ]
  },
  {
   "cell_type": "code",
   "execution_count": 288,
   "metadata": {},
   "outputs": [],
   "source": [
    "#dividimos los datos para poder tener datos para entrenamiento y otros para test\n",
    "#se usa sckikit learn para llamar a la funcion split y lo dividimos en 80/20\n",
    "from sklearn.model_selection import train_test_split\n",
    "x_train2, x_test2, y_train2, y_test2 = train_test_split(x2,y2, test_size=0.20, random_state=0)\n"
   ]
  },
  {
   "cell_type": "code",
   "execution_count": 289,
   "metadata": {},
   "outputs": [
    {
     "data": {
      "text/plain": [
       "GaussianNB()"
      ]
     },
     "execution_count": 289,
     "metadata": {},
     "output_type": "execute_result"
    }
   ],
   "source": [
    "#crear modelo NB\n",
    "from sklearn.naive_bayes import GaussianNB\n",
    "classifier=GaussianNB()\n",
    "classifier.fit(x_train2,y_train2)"
   ]
  },
  {
   "cell_type": "code",
   "execution_count": 290,
   "metadata": {},
   "outputs": [
    {
     "data": {
      "text/plain": [
       "array([0, 0, 0, ..., 0, 0, 0], dtype=int64)"
      ]
     },
     "execution_count": 290,
     "metadata": {},
     "output_type": "execute_result"
    }
   ],
   "source": [
    "#predecimos la varible dependiente usando las variables independientes del 20%\n",
    "y_pred2 = classifier.predict(x_test2)\n",
    "y_pred2"
   ]
  },
  {
   "cell_type": "code",
   "execution_count": 291,
   "metadata": {},
   "outputs": [],
   "source": [
    "#generarmos la matriz de confucion y precision\n",
    "from sklearn.metrics import confusion_matrix,accuracy_score\n",
    "cm2 = confusion_matrix(y_test2, y_pred2) #crea la matriz de confucion \n",
    "ac2 = accuracy_score(y_test2,y_pred2) #define la presicion"
   ]
  },
  {
   "cell_type": "code",
   "execution_count": 292,
   "metadata": {},
   "outputs": [
    {
     "data": {
      "text/plain": [
       "array([[2178,    0],\n",
       "       [ 204,    0]], dtype=int64)"
      ]
     },
     "execution_count": 292,
     "metadata": {},
     "output_type": "execute_result"
    }
   ],
   "source": [
    "cm2"
   ]
  },
  {
   "cell_type": "code",
   "execution_count": 293,
   "metadata": {},
   "outputs": [
    {
     "data": {
      "text/plain": [
       "0.9143576826196473"
      ]
     },
     "execution_count": 293,
     "metadata": {},
     "output_type": "execute_result"
    }
   ],
   "source": [
    "ac2"
   ]
  },
  {
   "cell_type": "code",
   "execution_count": 294,
   "metadata": {},
   "outputs": [
    {
     "data": {
      "image/png": "[encoded data removed]",
      "text/plain": [
       "<Figure size 432x288 with 2 Axes>"
      ]
     },
     "metadata": {
      "needs_background": "light"
     },
     "output_type": "display_data"
    }
   ],
   "source": [
    "#ploteamos la matriz de confucion(heatmap)\n",
    "import seaborn as sns\n",
    "\n",
    "ax=plt.subplot()\n",
    "sns.heatmap(cm2,annot=True, fmt='g', ax=ax, cmap='Greens'); ##annot= true crea abitacuibes be las celdas para crear etiquetas, fmt=g quita la notacion cientifica para quitar las celtas , cmap mostrar colores en verdes, ax es el subplot parte del plot\n",
    "\n",
    "ax.set_xlabel('Predicciones');ax.set_ylabel('Valores reales'); #etiquetas para los ejes\n",
    "ax.set_title('Matriz de Confusion');#titulos\n",
    "ax.xaxis.set_ticklabels(['True','False']); ax.yaxis.set_ticklabels(['True','False']);#son etiquetas de clasificacion de la matriz"
   ]
  },
  {
   "cell_type": "markdown",
   "metadata": {},
   "source": [
    "## Tercera Vista "
   ]
  },
  {
   "cell_type": "code",
   "execution_count": 295,
   "metadata": {},
   "outputs": [
    {
     "data": {
      "text/html": [
       "<div>\n",
       "<style scoped>\n",
       "    .dataframe tbody tr th:only-of-type {\n",
       "        vertical-align: middle;\n",
       "    }\n",
       "\n",
       "    .dataframe tbody tr th {\n",
       "        vertical-align: top;\n",
       "    }\n",
       "\n",
       "    .dataframe thead th {\n",
       "        text-align: right;\n",
       "    }\n",
       "</style>\n",
       "<table border=\"1\" class=\"dataframe\">\n",
       "  <thead>\n",
       "    <tr style=\"text-align: right;\">\n",
       "      <th></th>\n",
       "      <th>ID_Parte</th>\n",
       "      <th>ID_Categoria</th>\n",
       "      <th>Nombre</th>\n",
       "      <th>TotalEncimaPromedio</th>\n",
       "    </tr>\n",
       "  </thead>\n",
       "  <tbody>\n",
       "    <tr>\n",
       "      <th>0</th>\n",
       "      <td>AC1183100</td>\n",
       "      <td>1511</td>\n",
       "      <td>Spokane</td>\n",
       "      <td>1</td>\n",
       "    </tr>\n",
       "    <tr>\n",
       "      <th>1</th>\n",
       "      <td>AC2502112N</td>\n",
       "      <td>1831</td>\n",
       "      <td>Colorado</td>\n",
       "      <td>1</td>\n",
       "    </tr>\n",
       "    <tr>\n",
       "      <th>2</th>\n",
       "      <td>AC1200121</td>\n",
       "      <td>2080</td>\n",
       "      <td>Tulsa</td>\n",
       "      <td>1</td>\n",
       "    </tr>\n",
       "    <tr>\n",
       "      <th>3</th>\n",
       "      <td>222ADJUST</td>\n",
       "      <td>6</td>\n",
       "      <td>Memphis</td>\n",
       "      <td>0</td>\n",
       "    </tr>\n",
       "    <tr>\n",
       "      <th>4</th>\n",
       "      <td>AC1000148U-ORIG.REC</td>\n",
       "      <td>1235</td>\n",
       "      <td>Milwaukee</td>\n",
       "      <td>1</td>\n",
       "    </tr>\n",
       "  </tbody>\n",
       "</table>\n",
       "</div>"
      ],
      "text/plain": [
       "              ID_Parte  ID_Categoria     Nombre  TotalEncimaPromedio\n",
       "0            AC1183100          1511    Spokane                    1\n",
       "1           AC2502112N          1831   Colorado                    1\n",
       "2            AC1200121          2080      Tulsa                    1\n",
       "3            222ADJUST             6    Memphis                    0\n",
       "4  AC1000148U-ORIG.REC          1235  Milwaukee                    1"
      ]
     },
     "execution_count": 295,
     "metadata": {},
     "output_type": "execute_result"
    }
   ],
   "source": [
    "dfVW_PorcentajeDescuentoEncimaPromedio=pd.read_sql(\"select * from VW_PorcentajeDescuentoEncimaPromedio\", conexion)\n",
    "dfVW_PorcentajeDescuentoEncimaPromedio.head(5)"
   ]
  },
  {
   "cell_type": "code",
   "execution_count": 296,
   "metadata": {},
   "outputs": [
    {
     "data": {
      "text/plain": [
       "array([['AC1183100', 1511, 'Spokane'],\n",
       "       ['AC2502112N', 1831, 'Colorado'],\n",
       "       ['AC1200121', 2080, 'Tulsa'],\n",
       "       ...,\n",
       "       ['ALY01667U45', 9053, 'Tacoma'],\n",
       "       ['ALY01718U10', 10675, 'Stockton'],\n",
       "       ['ALY01681U10U1', 10420, 'San Jose']], dtype=object)"
      ]
     },
     "execution_count": 296,
     "metadata": {},
     "output_type": "execute_result"
    }
   ],
   "source": [
    "#x=dependientes\n",
    "x3=dfVW_PorcentajeDescuentoEncimaPromedio.iloc[:, 0:3].values\n",
    "#y=independientes\n",
    "y3=dfVW_PorcentajeDescuentoEncimaPromedio.iloc[:,-1].values\n",
    "#esto se vuelve un arreglo\n",
    "x3"
   ]
  },
  {
   "cell_type": "code",
   "execution_count": 297,
   "metadata": {},
   "outputs": [
    {
     "data": {
      "text/plain": [
       "array([[1043, 981, 82],\n",
       "       [1632, 1199, 18],\n",
       "       [1084, 1380, 91],\n",
       "       ...,\n",
       "       [12385, 6538, 87],\n",
       "       [12412, 7536, 86],\n",
       "       [12397, 7395, 78]], dtype=object)"
      ]
     },
     "execution_count": 297,
     "metadata": {},
     "output_type": "execute_result"
    }
   ],
   "source": [
    "#aplicar encoder\n",
    "#podermo codificar atriutos no numericos segun una escala\n",
    "\n",
    "le = LabelEncoder()\n",
    "x3[:,0] = le.fit_transform(x3[:,0])\n",
    "x3[:,1] = le.fit_transform(x3[:,1])\n",
    "x3[:,2] = le.fit_transform(x3[:,2])\n",
    "x3"
   ]
  },
  {
   "cell_type": "code",
   "execution_count": 298,
   "metadata": {},
   "outputs": [],
   "source": [
    "#dividimos los datos para poder tener datos para entrenamiento y otros para test\n",
    "#se usa sckikit learn para llamar a la funcion split y lo dividimos en 80/20\n",
    "from sklearn.model_selection import train_test_split\n",
    "x_train3, x_test3, y_train3, y_test3 = train_test_split(x3,y3, test_size=0.20, random_state=0)"
   ]
  },
  {
   "cell_type": "code",
   "execution_count": 299,
   "metadata": {},
   "outputs": [
    {
     "data": {
      "text/plain": [
       "GaussianNB()"
      ]
     },
     "execution_count": 299,
     "metadata": {},
     "output_type": "execute_result"
    }
   ],
   "source": [
    "#crear modelo NB\n",
    "from sklearn.naive_bayes import GaussianNB\n",
    "classifier=GaussianNB()\n",
    "classifier.fit(x_train3,y_train3)"
   ]
  },
  {
   "cell_type": "code",
   "execution_count": 300,
   "metadata": {},
   "outputs": [
    {
     "data": {
      "text/plain": [
       "array([1, 1, 1, ..., 1, 1, 1], dtype=int64)"
      ]
     },
     "execution_count": 300,
     "metadata": {},
     "output_type": "execute_result"
    }
   ],
   "source": [
    "#predecimos la varible dependiente usando las variables independientes del 20%\n",
    "y_pred3 = classifier.predict(x_test3)\n",
    "y_pred3"
   ]
  },
  {
   "cell_type": "code",
   "execution_count": 301,
   "metadata": {},
   "outputs": [],
   "source": [
    "#generarmos la matriz de confucion y precision\n",
    "from sklearn.metrics import confusion_matrix,accuracy_score\n",
    "cm3 = confusion_matrix(y_test3, y_pred3) #crea la matriz de confucion \n",
    "ac3 = accuracy_score(y_test3,y_pred3) #define la presicion"
   ]
  },
  {
   "cell_type": "code",
   "execution_count": 302,
   "metadata": {},
   "outputs": [
    {
     "data": {
      "text/plain": [
       "array([[   0, 1021],\n",
       "       [   0, 1464]], dtype=int64)"
      ]
     },
     "execution_count": 302,
     "metadata": {},
     "output_type": "execute_result"
    }
   ],
   "source": [
    "cm3 "
   ]
  },
  {
   "cell_type": "code",
   "execution_count": 303,
   "metadata": {},
   "outputs": [
    {
     "data": {
      "text/plain": [
       "0.5891348088531188"
      ]
     },
     "execution_count": 303,
     "metadata": {},
     "output_type": "execute_result"
    }
   ],
   "source": [
    "ac3"
   ]
  },
  {
   "cell_type": "code",
   "execution_count": 304,
   "metadata": {},
   "outputs": [
    {
     "data": {
      "image/png": "[encoded data removed]",
      "text/plain": [
       "<Figure size 432x288 with 2 Axes>"
      ]
     },
     "metadata": {
      "needs_background": "light"
     },
     "output_type": "display_data"
    }
   ],
   "source": [
    "#ploteamos la matriz de confucion(heatmap)\n",
    "import seaborn as sns\n",
    "\n",
    "ax=plt.subplot()\n",
    "sns.heatmap(cm3,annot=True, fmt='g', ax=ax, cmap='Greens'); ##annot= true crea abitacuibes be las celdas para crear etiquetas, fmt=g quita la notacion cientifica para quitar las celtas , cmap mostrar colores en verdes, ax es el subplot parte del plot\n",
    "\n",
    "ax.set_xlabel('Predicciones');ax.set_ylabel('Valores reales'); #etiquetas para los ejes\n",
    "ax.set_title('Matriz de Confusion');#titulos\n",
    "ax.xaxis.set_ticklabels(['True','False']); ax.yaxis.set_ticklabels(['True','False']);#son etiquetas de clasificacion de la matriz\n"
   ]
  },
  {
   "cell_type": "code",
   "execution_count": 305,
   "metadata": {},
   "outputs": [
    {
     "data": {
      "text/html": [
       "<div>\n",
       "<style scoped>\n",
       "    .dataframe tbody tr th:only-of-type {\n",
       "        vertical-align: middle;\n",
       "    }\n",
       "\n",
       "    .dataframe tbody tr th {\n",
       "        vertical-align: top;\n",
       "    }\n",
       "\n",
       "    .dataframe thead th {\n",
       "        text-align: right;\n",
       "    }\n",
       "</style>\n",
       "<table border=\"1\" class=\"dataframe\">\n",
       "  <thead>\n",
       "    <tr style=\"text-align: right;\">\n",
       "      <th></th>\n",
       "      <th>ID_Parte</th>\n",
       "      <th>ID_Categoria</th>\n",
       "      <th>Nombre</th>\n",
       "      <th>TotalEncimaPromedio</th>\n",
       "    </tr>\n",
       "  </thead>\n",
       "  <tbody>\n",
       "    <tr>\n",
       "      <th>0</th>\n",
       "      <td>AC1183100</td>\n",
       "      <td>1511</td>\n",
       "      <td>Spokane</td>\n",
       "      <td>1</td>\n",
       "    </tr>\n",
       "    <tr>\n",
       "      <th>1</th>\n",
       "      <td>AC2502112N</td>\n",
       "      <td>1831</td>\n",
       "      <td>Colorado</td>\n",
       "      <td>1</td>\n",
       "    </tr>\n",
       "    <tr>\n",
       "      <th>2</th>\n",
       "      <td>AC1200121</td>\n",
       "      <td>2080</td>\n",
       "      <td>Tulsa</td>\n",
       "      <td>1</td>\n",
       "    </tr>\n",
       "    <tr>\n",
       "      <th>3</th>\n",
       "      <td>222ADJUST</td>\n",
       "      <td>6</td>\n",
       "      <td>Memphis</td>\n",
       "      <td>0</td>\n",
       "    </tr>\n",
       "    <tr>\n",
       "      <th>4</th>\n",
       "      <td>AC1000148U-ORIG.REC</td>\n",
       "      <td>1235</td>\n",
       "      <td>Milwaukee</td>\n",
       "      <td>1</td>\n",
       "    </tr>\n",
       "  </tbody>\n",
       "</table>\n",
       "</div>"
      ],
      "text/plain": [
       "              ID_Parte  ID_Categoria     Nombre  TotalEncimaPromedio\n",
       "0            AC1183100          1511    Spokane                    1\n",
       "1           AC2502112N          1831   Colorado                    1\n",
       "2            AC1200121          2080      Tulsa                    1\n",
       "3            222ADJUST             6    Memphis                    0\n",
       "4  AC1000148U-ORIG.REC          1235  Milwaukee                    1"
      ]
     },
     "execution_count": 305,
     "metadata": {},
     "output_type": "execute_result"
    }
   ],
   "source": [
    "dfVW_PorcentaEncimaPromedio=pd.read_sql(\"select * from VW_PorcentaEncimaPromedio\", conexion)\n",
    "dfVW_PorcentaEncimaPromedio.head(5)"
   ]
  },
  {
   "cell_type": "code",
   "execution_count": 306,
   "metadata": {},
   "outputs": [
    {
     "data": {
      "text/plain": [
       "array([['AC1183100', 1511, 'Spokane'],\n",
       "       ['AC2502112N', 1831, 'Colorado'],\n",
       "       ['AC1200121', 2080, 'Tulsa'],\n",
       "       ...,\n",
       "       ['ALY01667U45', 9053, 'Tacoma'],\n",
       "       ['ALY01718U10', 10675, 'Stockton'],\n",
       "       ['ALY01681U10U1', 10420, 'San Jose']], dtype=object)"
      ]
     },
     "execution_count": 306,
     "metadata": {},
     "output_type": "execute_result"
    }
   ],
   "source": [
    "#x=dependientes\n",
    "x3=dfVW_PorcentaEncimaPromedio.iloc[:, 0:3].values\n",
    "#y=independientes\n",
    "y3=dfVW_PorcentaEncimaPromedio.iloc[:,-1].values\n",
    "#esto se vuelve un arreglo\n",
    "x3"
   ]
  },
  {
   "cell_type": "code",
   "execution_count": 307,
   "metadata": {},
   "outputs": [
    {
     "data": {
      "text/plain": [
       "array([[1043, 981, 82],\n",
       "       [1632, 1199, 18],\n",
       "       [1084, 1380, 91],\n",
       "       ...,\n",
       "       [12385, 6538, 87],\n",
       "       [12412, 7536, 86],\n",
       "       [12397, 7395, 78]], dtype=object)"
      ]
     },
     "execution_count": 307,
     "metadata": {},
     "output_type": "execute_result"
    }
   ],
   "source": [
    "#aplicar encoder\n",
    "#podermo codificar atriutos no numericos segun una escala\n",
    "\n",
    "le = LabelEncoder()\n",
    "x3[:,0] = le.fit_transform(x3[:,0])\n",
    "x3[:,1] = le.fit_transform(x3[:,1])\n",
    "x3[:,2] = le.fit_transform(x3[:,2])\n",
    "x3"
   ]
  },
  {
   "cell_type": "markdown",
   "metadata": {},
   "source": [
    "## Cuarta Vista "
   ]
  },
  {
   "cell_type": "code",
   "execution_count": 308,
   "metadata": {},
   "outputs": [
    {
     "data": {
      "text/html": [
       "<div>\n",
       "<style scoped>\n",
       "    .dataframe tbody tr th:only-of-type {\n",
       "        vertical-align: middle;\n",
       "    }\n",
       "\n",
       "    .dataframe tbody tr th {\n",
       "        vertical-align: top;\n",
       "    }\n",
       "\n",
       "    .dataframe thead th {\n",
       "        text-align: right;\n",
       "    }\n",
       "</style>\n",
       "<table border=\"1\" class=\"dataframe\">\n",
       "  <thead>\n",
       "    <tr style=\"text-align: right;\">\n",
       "      <th></th>\n",
       "      <th>NombreCiudad</th>\n",
       "      <th>Genero</th>\n",
       "      <th>ID_Parte</th>\n",
       "      <th>ID_Categoria</th>\n",
       "      <th>TotalEncimaPromedio</th>\n",
       "    </tr>\n",
       "  </thead>\n",
       "  <tbody>\n",
       "    <tr>\n",
       "      <th>0</th>\n",
       "      <td>San Diego</td>\n",
       "      <td>M</td>\n",
       "      <td>AC1100173CORE-ORIG.REC</td>\n",
       "      <td>1612</td>\n",
       "      <td>1</td>\n",
       "    </tr>\n",
       "    <tr>\n",
       "      <th>1</th>\n",
       "      <td>Tacoma</td>\n",
       "      <td>F</td>\n",
       "      <td>AC1320108-ORIG.REC</td>\n",
       "      <td>2827</td>\n",
       "      <td>0</td>\n",
       "    </tr>\n",
       "    <tr>\n",
       "      <th>2</th>\n",
       "      <td>Akron</td>\n",
       "      <td>M</td>\n",
       "      <td>AC1228119-ORIG.REC</td>\n",
       "      <td>3154</td>\n",
       "      <td>0</td>\n",
       "    </tr>\n",
       "    <tr>\n",
       "      <th>3</th>\n",
       "      <td>Richmond</td>\n",
       "      <td>M</td>\n",
       "      <td>AC1217107</td>\n",
       "      <td>3225</td>\n",
       "      <td>1</td>\n",
       "    </tr>\n",
       "    <tr>\n",
       "      <th>4</th>\n",
       "      <td>Dallas</td>\n",
       "      <td>F</td>\n",
       "      <td>AC2519105-ORIG.REC</td>\n",
       "      <td>4241</td>\n",
       "      <td>0</td>\n",
       "    </tr>\n",
       "  </tbody>\n",
       "</table>\n",
       "</div>"
      ],
      "text/plain": [
       "  NombreCiudad Genero                ID_Parte  ID_Categoria  \\\n",
       "0    San Diego      M  AC1100173CORE-ORIG.REC          1612   \n",
       "1       Tacoma      F      AC1320108-ORIG.REC          2827   \n",
       "2        Akron      M      AC1228119-ORIG.REC          3154   \n",
       "3     Richmond      M               AC1217107          3225   \n",
       "4       Dallas      F      AC2519105-ORIG.REC          4241   \n",
       "\n",
       "   TotalEncimaPromedio  \n",
       "0                    1  \n",
       "1                    0  \n",
       "2                    0  \n",
       "3                    1  \n",
       "4                    0  "
      ]
     },
     "execution_count": 308,
     "metadata": {},
     "output_type": "execute_result"
    }
   ],
   "source": [
    "dfVW_TotalOrdenesEncimaPromedio=pd.read_sql(\"select * from VW_TotalOrdenesEncimaPromedio\", conexion)\n",
    "dfVW_TotalOrdenesEncimaPromedio.head(5)"
   ]
  },
  {
   "cell_type": "code",
   "execution_count": 309,
   "metadata": {},
   "outputs": [
    {
     "data": {
      "text/plain": [
       "array([['San Diego', 'M', 'AC1100173CORE-ORIG.REC', 1612],\n",
       "       ['Tacoma', 'F', 'AC1320108-ORIG.REC', 2827],\n",
       "       ['Akron', 'M', 'AC1228119-ORIG.REC', 3154],\n",
       "       ...,\n",
       "       ['Tacoma', 'M', 'ALY01608U', 9394],\n",
       "       ['Bakersfield', 'F', 'ALY01610U55U1', 10049],\n",
       "       ['Greensboro', 'F', 'ALY01618U10U1', 10026]], dtype=object)"
      ]
     },
     "execution_count": 309,
     "metadata": {},
     "output_type": "execute_result"
    }
   ],
   "source": [
    "#x=dependientes\n",
    "x4=dfVW_TotalOrdenesEncimaPromedio.iloc[:, 0:4].values\n",
    "#y=independientes\n",
    "y4=dfVW_TotalOrdenesEncimaPromedio.iloc[:,-1].values\n",
    "#esto se vuelve un arreglo\n",
    "x4"
   ]
  },
  {
   "cell_type": "code",
   "execution_count": 310,
   "metadata": {},
   "outputs": [
    {
     "data": {
      "text/plain": [
       "array([[76, 1, 3, 1089],\n",
       "       [87, 0, 159, 2120],\n",
       "       [0, 1, 78, 2421],\n",
       "       ...,\n",
       "       [87, 1, 11895, 5359],\n",
       "       [8, 0, 11898, 5705],\n",
       "       [34, 0, 11900, 5692]], dtype=object)"
      ]
     },
     "execution_count": 310,
     "metadata": {},
     "output_type": "execute_result"
    }
   ],
   "source": [
    "#aplicar encoder\n",
    "#podermo codificar atriutos no numericos segun una escala\n",
    "\n",
    "le = LabelEncoder()\n",
    "x4[:,0] = le.fit_transform(x4[:,0])\n",
    "x4[:,1] = le.fit_transform(x4[:,1])\n",
    "x4[:,2] = le.fit_transform(x4[:,2])\n",
    "x4[:,3] = le.fit_transform(x4[:,3])\n",
    "x4"
   ]
  },
  {
   "cell_type": "code",
   "execution_count": 311,
   "metadata": {},
   "outputs": [],
   "source": [
    "#dividimos los datos para poder tener datos para entrenamiento y otros para test\n",
    "#se usa sckikit learn para llamar a la funcion split y lo dividimos en 80/20\n",
    "from sklearn.model_selection import train_test_split\n",
    "x_train4, x_test4, y_train4, y_test4 = train_test_split(x,y, test_size=0.20, random_state=0)"
   ]
  },
  {
   "cell_type": "code",
   "execution_count": 312,
   "metadata": {},
   "outputs": [
    {
     "data": {
      "text/plain": [
       "GaussianNB()"
      ]
     },
     "execution_count": 312,
     "metadata": {},
     "output_type": "execute_result"
    }
   ],
   "source": [
    "#crear modelo NB\n",
    "from sklearn.naive_bayes import GaussianNB\n",
    "classifier=GaussianNB()\n",
    "classifier.fit(x_train4,y_train4)"
   ]
  },
  {
   "cell_type": "code",
   "execution_count": 313,
   "metadata": {},
   "outputs": [
    {
     "data": {
      "text/plain": [
       "array([0, 0, 0, ..., 0, 0, 0], dtype=int64)"
      ]
     },
     "execution_count": 313,
     "metadata": {},
     "output_type": "execute_result"
    }
   ],
   "source": [
    "#predecimos la varible dependiente usando las variables independientes del 20%\n",
    "y_pred4 = classifier.predict(x_test4)\n",
    "y_pred4"
   ]
  },
  {
   "cell_type": "code",
   "execution_count": 314,
   "metadata": {},
   "outputs": [],
   "source": [
    "#generarmos la matriz de confucion y precision\n",
    "from sklearn.metrics import confusion_matrix,accuracy_score\n",
    "cm4 = confusion_matrix(y_test4, y_pred4) #crea la matriz de confucion \n",
    "ac4 = accuracy_score(y_test4,y_pred4) #define la presicion"
   ]
  },
  {
   "cell_type": "code",
   "execution_count": 315,
   "metadata": {},
   "outputs": [
    {
     "data": {
      "text/plain": [
       "array([[2266,    0],\n",
       "       [ 192,    0]], dtype=int64)"
      ]
     },
     "execution_count": 315,
     "metadata": {},
     "output_type": "execute_result"
    }
   ],
   "source": [
    "#matriz de confusion\n",
    "cm4"
   ]
  },
  {
   "cell_type": "code",
   "execution_count": 316,
   "metadata": {},
   "outputs": [
    {
     "data": {
      "text/plain": [
       "0.9218877135882831"
      ]
     },
     "execution_count": 316,
     "metadata": {},
     "output_type": "execute_result"
    }
   ],
   "source": [
    "#presicion\n",
    "ac4"
   ]
  },
  {
   "cell_type": "code",
   "execution_count": 317,
   "metadata": {},
   "outputs": [
    {
     "data": {
      "image/png": "[encoded data removed]",
      "text/plain": [
       "<Figure size 432x288 with 2 Axes>"
      ]
     },
     "metadata": {
      "needs_background": "light"
     },
     "output_type": "display_data"
    }
   ],
   "source": [
    "#ploteamos la matriz de confucion(heatmap)\n",
    "import seaborn as sns\n",
    "\n",
    "ax=plt.subplot()\n",
    "sns.heatmap(cm4,annot=True, fmt='g', ax=ax, cmap='Greens'); ##annot= true crea abitacuibes be las celdas para crear etiquetas, fmt=g quita la notacion cientifica para quitar las celtas , cmap mostrar colores en verdes, ax es el subplot parte del plot\n",
    "\n",
    "ax.set_xlabel('Predicciones');ax.set_ylabel('Valores reales'); #etiquetas para los ejes\n",
    "ax.set_title('Matriz de Confusion');#titulos\n",
    "ax.xaxis.set_ticklabels(['True','False']); ax.yaxis.set_ticklabels(['True','False']);#son etiquetas de clasificacion de la matriz"
   ]
  },
  {
   "cell_type": "markdown",
   "metadata": {},
   "source": [
    "## Quinta Vista Variables"
   ]
  },
  {
   "cell_type": "code",
   "execution_count": 318,
   "metadata": {},
   "outputs": [
    {
     "data": {
      "text/html": [
       "<div>\n",
       "<style scoped>\n",
       "    .dataframe tbody tr th:only-of-type {\n",
       "        vertical-align: middle;\n",
       "    }\n",
       "\n",
       "    .dataframe tbody tr th {\n",
       "        vertical-align: top;\n",
       "    }\n",
       "\n",
       "    .dataframe thead th {\n",
       "        text-align: right;\n",
       "    }\n",
       "</style>\n",
       "<table border=\"1\" class=\"dataframe\">\n",
       "  <thead>\n",
       "    <tr style=\"text-align: right;\">\n",
       "      <th></th>\n",
       "      <th>ID_Categoria</th>\n",
       "      <th>ID_Parte</th>\n",
       "      <th>ProcesadoPor</th>\n",
       "      <th>IDAseguradora</th>\n",
       "      <th>OrdenRealizada</th>\n",
       "    </tr>\n",
       "  </thead>\n",
       "  <tbody>\n",
       "    <tr>\n",
       "      <th>0</th>\n",
       "      <td>727</td>\n",
       "      <td>*220MISC</td>\n",
       "      <td>Aseguradora</td>\n",
       "      <td>438</td>\n",
       "      <td>False</td>\n",
       "    </tr>\n",
       "    <tr>\n",
       "      <th>1</th>\n",
       "      <td>769</td>\n",
       "      <td>*222MISC</td>\n",
       "      <td>Aseguradora</td>\n",
       "      <td>438</td>\n",
       "      <td>False</td>\n",
       "    </tr>\n",
       "    <tr>\n",
       "      <th>2</th>\n",
       "      <td>559</td>\n",
       "      <td>*223MISC</td>\n",
       "      <td>Aseguradora</td>\n",
       "      <td>880</td>\n",
       "      <td>False</td>\n",
       "    </tr>\n",
       "    <tr>\n",
       "      <th>3</th>\n",
       "      <td>207</td>\n",
       "      <td>*224MISC</td>\n",
       "      <td>Call center</td>\n",
       "      <td>880</td>\n",
       "      <td>False</td>\n",
       "    </tr>\n",
       "    <tr>\n",
       "      <th>4</th>\n",
       "      <td>1004</td>\n",
       "      <td>*225MISC</td>\n",
       "      <td>Aseguradora</td>\n",
       "      <td>1278</td>\n",
       "      <td>False</td>\n",
       "    </tr>\n",
       "  </tbody>\n",
       "</table>\n",
       "</div>"
      ],
      "text/plain": [
       "   ID_Categoria  ID_Parte ProcesadoPor  IDAseguradora  OrdenRealizada\n",
       "0           727  *220MISC  Aseguradora            438           False\n",
       "1           769  *222MISC  Aseguradora            438           False\n",
       "2           559  *223MISC  Aseguradora            880           False\n",
       "3           207  *224MISC  Call center            880           False\n",
       "4          1004  *225MISC  Aseguradora           1278           False"
      ]
     },
     "execution_count": 318,
     "metadata": {},
     "output_type": "execute_result"
    }
   ],
   "source": [
    "dfVW_OrdenRealizadaCotizacion=pd.read_sql(\"select * from VW_OrdenRealizadaCotizacion\", conexion)\n",
    "dfVW_OrdenRealizadaCotizacion.head(5)"
   ]
  },
  {
   "cell_type": "code",
   "execution_count": 319,
   "metadata": {},
   "outputs": [
    {
     "data": {
      "text/plain": [
       "array([[727, '*220MISC', 'Aseguradora', 438],\n",
       "       [769, '*222MISC', 'Aseguradora', 438],\n",
       "       [559, '*223MISC', 'Aseguradora', 880],\n",
       "       ...,\n",
       "       [10616, 'ALY01626L85U1', 'Servicio de Integracion', 880],\n",
       "       [10399, 'ALY01626R10-ORIG.REC', 'Servicio de Integracion', 1003],\n",
       "       [8800, 'ALY01626R10U1-ORIG.REC', 'Servicio de Integracion', 200]],\n",
       "      dtype=object)"
      ]
     },
     "execution_count": 319,
     "metadata": {},
     "output_type": "execute_result"
    }
   ],
   "source": [
    "#x=dependientes\n",
    "x5=dfVW_OrdenRealizadaCotizacion.iloc[:, 0:4].values\n",
    "#y=independientes\n",
    "y5=dfVW_OrdenRealizadaCotizacion.iloc[:,-1].values\n",
    "#esto se vuelve un arreglo\n",
    "x5"
   ]
  },
  {
   "cell_type": "code",
   "execution_count": 320,
   "metadata": {},
   "outputs": [
    {
     "data": {
      "text/plain": [
       "array([[643, 0, 0, 57],\n",
       "       [683, 1, 0, 57],\n",
       "       [488, 2, 0, 113],\n",
       "       ...,\n",
       "       [9230, 12410, 3, 113],\n",
       "       [9158, 12411, 3, 130],\n",
       "       [8042, 12412, 3, 30]], dtype=object)"
      ]
     },
     "execution_count": 320,
     "metadata": {},
     "output_type": "execute_result"
    }
   ],
   "source": [
    "#aplicar encoder\n",
    "#podermo codificar atriutos no numericos segun una escala\n",
    "\n",
    "le = LabelEncoder()\n",
    "x5[:,0] = le.fit_transform(x5[:,0])\n",
    "x5[:,1] = le.fit_transform(x5[:,1])\n",
    "x5[:,2] = le.fit_transform(x5[:,2])\n",
    "x5[:,3] = le.fit_transform(x5[:,3])\n",
    "x5"
   ]
  },
  {
   "cell_type": "code",
   "execution_count": 321,
   "metadata": {},
   "outputs": [],
   "source": [
    "#dividimos los datos para poder tener datos para entrenamiento y otros para test\n",
    "#se usa sckikit learn para llamar a la funcion split y lo dividimos en 80/20\n",
    "from sklearn.model_selection import train_test_split\n",
    "x_train5, x_test5, y_train5, y_test5 = train_test_split(x5,y5, test_size=0.20, random_state=0)"
   ]
  },
  {
   "cell_type": "code",
   "execution_count": 322,
   "metadata": {},
   "outputs": [
    {
     "data": {
      "text/plain": [
       "GaussianNB()"
      ]
     },
     "execution_count": 322,
     "metadata": {},
     "output_type": "execute_result"
    }
   ],
   "source": [
    "#crear modelo NB\n",
    "from sklearn.naive_bayes import GaussianNB\n",
    "classifier=GaussianNB()\n",
    "classifier.fit(x_train5,y_train5)"
   ]
  },
  {
   "cell_type": "code",
   "execution_count": 323,
   "metadata": {},
   "outputs": [
    {
     "data": {
      "text/plain": [
       "array([False, False, False, ..., False, False, False])"
      ]
     },
     "execution_count": 323,
     "metadata": {},
     "output_type": "execute_result"
    }
   ],
   "source": [
    "#predecimos la varible dependiente usando las variables independientes del 20%\n",
    "y_pred5 = classifier.predict(x_test5)\n",
    "y_pred5"
   ]
  },
  {
   "cell_type": "code",
   "execution_count": 324,
   "metadata": {},
   "outputs": [],
   "source": [
    "#generarmos la matriz de confucion y precision\n",
    "from sklearn.metrics import confusion_matrix,accuracy_score\n",
    "cm5 = confusion_matrix(y_test5, y_pred5) #crea la matriz de confucion \n",
    "ac = accuracy_score(y_test5,y_pred5) #define la presicion"
   ]
  },
  {
   "cell_type": "code",
   "execution_count": 325,
   "metadata": {},
   "outputs": [
    {
     "data": {
      "text/plain": [
       "array([[1491,    0],\n",
       "       [ 992,    0]], dtype=int64)"
      ]
     },
     "execution_count": 325,
     "metadata": {},
     "output_type": "execute_result"
    }
   ],
   "source": [
    "#matriz de confusion\n",
    "cm5"
   ]
  },
  {
   "cell_type": "code",
   "execution_count": 326,
   "metadata": {},
   "outputs": [
    {
     "data": {
      "text/plain": [
       "array([[1491,    0],\n",
       "       [ 992,    0]], dtype=int64)"
      ]
     },
     "execution_count": 326,
     "metadata": {},
     "output_type": "execute_result"
    }
   ],
   "source": [
    "#matriz de confusion\n",
    "cm5"
   ]
  },
  {
   "cell_type": "markdown",
   "metadata": {},
   "source": [
    "## Sexta Vista"
   ]
  },
  {
   "cell_type": "code",
   "execution_count": 327,
   "metadata": {},
   "outputs": [
    {
     "data": {
      "text/html": [
       "<div>\n",
       "<style scoped>\n",
       "    .dataframe tbody tr th:only-of-type {\n",
       "        vertical-align: middle;\n",
       "    }\n",
       "\n",
       "    .dataframe tbody tr th {\n",
       "        vertical-align: top;\n",
       "    }\n",
       "\n",
       "    .dataframe thead th {\n",
       "        text-align: right;\n",
       "    }\n",
       "</style>\n",
       "<table border=\"1\" class=\"dataframe\">\n",
       "  <thead>\n",
       "    <tr style=\"text-align: right;\">\n",
       "      <th></th>\n",
       "      <th>ID_Parte</th>\n",
       "      <th>ID_Categoria</th>\n",
       "      <th>Nombre</th>\n",
       "      <th>PorcentajeBajo</th>\n",
       "    </tr>\n",
       "  </thead>\n",
       "  <tbody>\n",
       "    <tr>\n",
       "      <th>0</th>\n",
       "      <td>AC1183100</td>\n",
       "      <td>1511</td>\n",
       "      <td>Spokane</td>\n",
       "      <td>0</td>\n",
       "    </tr>\n",
       "    <tr>\n",
       "      <th>1</th>\n",
       "      <td>AC2502112N</td>\n",
       "      <td>1831</td>\n",
       "      <td>Colorado</td>\n",
       "      <td>1</td>\n",
       "    </tr>\n",
       "    <tr>\n",
       "      <th>2</th>\n",
       "      <td>AC1200121</td>\n",
       "      <td>2080</td>\n",
       "      <td>Tulsa</td>\n",
       "      <td>1</td>\n",
       "    </tr>\n",
       "    <tr>\n",
       "      <th>3</th>\n",
       "      <td>222ADJUST</td>\n",
       "      <td>6</td>\n",
       "      <td>Memphis</td>\n",
       "      <td>1</td>\n",
       "    </tr>\n",
       "    <tr>\n",
       "      <th>4</th>\n",
       "      <td>AC1000148U-ORIG.REC</td>\n",
       "      <td>1235</td>\n",
       "      <td>Milwaukee</td>\n",
       "      <td>0</td>\n",
       "    </tr>\n",
       "  </tbody>\n",
       "</table>\n",
       "</div>"
      ],
      "text/plain": [
       "              ID_Parte  ID_Categoria     Nombre  PorcentajeBajo\n",
       "0            AC1183100          1511    Spokane               0\n",
       "1           AC2502112N          1831   Colorado               1\n",
       "2            AC1200121          2080      Tulsa               1\n",
       "3            222ADJUST             6    Memphis               1\n",
       "4  AC1000148U-ORIG.REC          1235  Milwaukee               0"
      ]
     },
     "execution_count": 327,
     "metadata": {},
     "output_type": "execute_result"
    }
   ],
   "source": [
    "dfVW_OrdenRealizadaCotizacion=pd.read_sql(\"select * from VW_PorcentajeBajo\", conexion)\n",
    "dfVW_OrdenRealizadaCotizacion.head(5)"
   ]
  },
  {
   "cell_type": "code",
   "execution_count": 328,
   "metadata": {},
   "outputs": [
    {
     "data": {
      "text/plain": [
       "array([['AC1183100', 1511, 'Spokane'],\n",
       "       ['AC2502112N', 1831, 'Colorado'],\n",
       "       ['AC1200121', 2080, 'Tulsa'],\n",
       "       ...,\n",
       "       ['ABP1120', 1138, 'Tacoma'],\n",
       "       ['ABP603007', 1531, 'Stockton'],\n",
       "       ['ABP1531', 526, 'San Jose']], dtype=object)"
      ]
     },
     "execution_count": 328,
     "metadata": {},
     "output_type": "execute_result"
    }
   ],
   "source": [
    "#x=dependientes\n",
    "x6=dfVW_OrdenRealizadaCotizacion.iloc[:, 0:3].values\n",
    "#y=independientes\n",
    "y6=dfVW_OrdenRealizadaCotizacion.iloc[:,-1].values\n",
    "#esto se vuelve un arreglo\n",
    "x6"
   ]
  },
  {
   "cell_type": "code",
   "execution_count": 329,
   "metadata": {},
   "outputs": [
    {
     "data": {
      "text/plain": [
       "array([[1043, 981, 82],\n",
       "       [1632, 1199, 18],\n",
       "       [1084, 1380, 91],\n",
       "       ...,\n",
       "       [176, 735, 87],\n",
       "       [274, 995, 86],\n",
       "       [196, 324, 78]], dtype=object)"
      ]
     },
     "execution_count": 329,
     "metadata": {},
     "output_type": "execute_result"
    }
   ],
   "source": [
    "#aplicar encoder\n",
    "#podermo codificar atriutos no numericos segun una escala\n",
    "\n",
    "le = LabelEncoder()\n",
    "x6[:,0] = le.fit_transform(x6[:,0])\n",
    "x6[:,1] = le.fit_transform(x6[:,1])\n",
    "x6[:,2] = le.fit_transform(x6[:,2])\n",
    "x6"
   ]
  },
  {
   "cell_type": "code",
   "execution_count": 330,
   "metadata": {},
   "outputs": [],
   "source": [
    "#dividimos los datos para poder tener datos para entrenamiento y otros para test\n",
    "#se usa sckikit learn para llamar a la funcion split y lo dividimos en 80/20\n",
    "from sklearn.model_selection import train_test_split\n",
    "x_train6, x_test6, y_train6, y_test6 = train_test_split(x6,y6, test_size=0.20, random_state=0)"
   ]
  },
  {
   "cell_type": "code",
   "execution_count": 331,
   "metadata": {},
   "outputs": [
    {
     "data": {
      "text/plain": [
       "GaussianNB()"
      ]
     },
     "execution_count": 331,
     "metadata": {},
     "output_type": "execute_result"
    }
   ],
   "source": [
    "#crear modelo NB\n",
    "from sklearn.naive_bayes import GaussianNB\n",
    "classifier=GaussianNB()\n",
    "classifier.fit(x_train6,y_train6)"
   ]
  },
  {
   "cell_type": "code",
   "execution_count": 332,
   "metadata": {},
   "outputs": [
    {
     "data": {
      "text/plain": [
       "array([1, 1, 1, ..., 1, 1, 1], dtype=int64)"
      ]
     },
     "execution_count": 332,
     "metadata": {},
     "output_type": "execute_result"
    }
   ],
   "source": [
    "#predecimos la varible dependiente usando las variables independientes del 20%\n",
    "y_pred6 = classifier.predict(x_test6)\n",
    "y_pred6"
   ]
  },
  {
   "cell_type": "code",
   "execution_count": 333,
   "metadata": {},
   "outputs": [],
   "source": [
    "#generarmos la matriz de confucion y precision\n",
    "from sklearn.metrics import confusion_matrix,accuracy_score\n",
    "cm6 = confusion_matrix(y_test6, y_pred6) #crea la matriz de confucion \n",
    "ac6 = accuracy_score(y_test6,y_pred6) #define la presicion"
   ]
  },
  {
   "cell_type": "code",
   "execution_count": 334,
   "metadata": {},
   "outputs": [
    {
     "data": {
      "text/plain": [
       "array([[   0, 1002],\n",
       "       [   0, 1483]], dtype=int64)"
      ]
     },
     "execution_count": 334,
     "metadata": {},
     "output_type": "execute_result"
    }
   ],
   "source": [
    "#matriz de confusion\n",
    "cm6"
   ]
  },
  {
   "cell_type": "code",
   "execution_count": 335,
   "metadata": {},
   "outputs": [
    {
     "data": {
      "text/plain": [
       "0.5967806841046278"
      ]
     },
     "execution_count": 335,
     "metadata": {},
     "output_type": "execute_result"
    }
   ],
   "source": [
    "#presicion\n",
    "ac6"
   ]
  },
  {
   "cell_type": "code",
   "execution_count": 336,
   "metadata": {},
   "outputs": [
    {
     "data": {
      "image/png": "[encoded data removed]",
      "text/plain": [
       "<Figure size 432x288 with 2 Axes>"
      ]
     },
     "metadata": {
      "needs_background": "light"
     },
     "output_type": "display_data"
    }
   ],
   "source": [
    "#ploteamos la matriz de confucion(heatmap)\n",
    "import seaborn as sns\n",
    "\n",
    "ax=plt.subplot()\n",
    "sns.heatmap(cm6,annot=True, fmt='g', ax=ax, cmap='Greens'); ##annot= true crea abitacuibes be las celdas para crear etiquetas, fmt=g quita la notacion cientifica para quitar las celtas , cmap mostrar colores en verdes, ax es el subplot parte del plot\n",
    "\n",
    "ax.set_xlabel('Predicciones');ax.set_ylabel('Valores reales'); #etiquetas para los ejes\n",
    "ax.set_title('Matriz de Confusion');#titulos\n",
    "ax.xaxis.set_ticklabels(['True','False']); ax.yaxis.set_ticklabels(['True','False']);#son etiquetas de clasificacion de la matriz"
   ]
  },
  {
   "cell_type": "markdown",
   "metadata": {},
   "source": [
    "## Semptima Vista"
   ]
  },
  {
   "cell_type": "code",
   "execution_count": 337,
   "metadata": {},
   "outputs": [
    {
     "data": {
      "text/html": [
       "<div>\n",
       "<style scoped>\n",
       "    .dataframe tbody tr th:only-of-type {\n",
       "        vertical-align: middle;\n",
       "    }\n",
       "\n",
       "    .dataframe tbody tr th {\n",
       "        vertical-align: top;\n",
       "    }\n",
       "\n",
       "    .dataframe thead th {\n",
       "        text-align: right;\n",
       "    }\n",
       "</style>\n",
       "<table border=\"1\" class=\"dataframe\">\n",
       "  <thead>\n",
       "    <tr style=\"text-align: right;\">\n",
       "      <th></th>\n",
       "      <th>ID_Parte</th>\n",
       "      <th>ID_Categoria</th>\n",
       "      <th>Marca</th>\n",
       "      <th>VehiculoModerno</th>\n",
       "    </tr>\n",
       "  </thead>\n",
       "  <tbody>\n",
       "    <tr>\n",
       "      <th>0</th>\n",
       "      <td>ACK014447</td>\n",
       "      <td>8413</td>\n",
       "      <td>GMC</td>\n",
       "      <td>1</td>\n",
       "    </tr>\n",
       "    <tr>\n",
       "      <th>1</th>\n",
       "      <td>ACK013971</td>\n",
       "      <td>9078</td>\n",
       "      <td>Ford</td>\n",
       "      <td>1</td>\n",
       "    </tr>\n",
       "    <tr>\n",
       "      <th>2</th>\n",
       "      <td>ACK012339</td>\n",
       "      <td>7330</td>\n",
       "      <td>Mazda</td>\n",
       "      <td>1</td>\n",
       "    </tr>\n",
       "    <tr>\n",
       "      <th>3</th>\n",
       "      <td>ACK011820R</td>\n",
       "      <td>6788</td>\n",
       "      <td>Chevrolet</td>\n",
       "      <td>1</td>\n",
       "    </tr>\n",
       "    <tr>\n",
       "      <th>4</th>\n",
       "      <td>ACK013043</td>\n",
       "      <td>9004</td>\n",
       "      <td>Toyota</td>\n",
       "      <td>1</td>\n",
       "    </tr>\n",
       "  </tbody>\n",
       "</table>\n",
       "</div>"
      ],
      "text/plain": [
       "     ID_Parte  ID_Categoria      Marca  VehiculoModerno\n",
       "0   ACK014447          8413        GMC                1\n",
       "1   ACK013971          9078       Ford                1\n",
       "2   ACK012339          7330      Mazda                1\n",
       "3  ACK011820R          6788  Chevrolet                1\n",
       "4   ACK013043          9004     Toyota                1"
      ]
     },
     "execution_count": 337,
     "metadata": {},
     "output_type": "execute_result"
    }
   ],
   "source": [
    "dfVW_VehiculoModerno=pd.read_sql(\"select * from VW_VehiculoModerno\", conexion)\n",
    "dfVW_VehiculoModerno.head(5)"
   ]
  },
  {
   "cell_type": "code",
   "execution_count": 338,
   "metadata": {},
   "outputs": [
    {
     "data": {
      "text/plain": [
       "array([['ACK014447', 8413, 'GMC'],\n",
       "       ['ACK013971', 9078, 'Ford'],\n",
       "       ['ACK012339', 7330, 'Mazda'],\n",
       "       ...,\n",
       "       ['AC2592109N', 4587, 'Jeep'],\n",
       "       ['ACK014017', 5242, 'Audi'],\n",
       "       ['ALTN13575-ORIG.REC', 8287, 'GMC']], dtype=object)"
      ]
     },
     "execution_count": 338,
     "metadata": {},
     "output_type": "execute_result"
    }
   ],
   "source": [
    "#x=dependientes\n",
    "x7=dfVW_VehiculoModerno.iloc[:, 0:3].values\n",
    "#y=independientes\n",
    "y7=dfVW_VehiculoModerno.iloc[:,-1].values\n",
    "#esto se vuelve un arreglo\n",
    "x7"
   ]
  },
  {
   "cell_type": "code",
   "execution_count": 339,
   "metadata": {},
   "outputs": [
    {
     "data": {
      "text/plain": [
       "array([[8049, 7709, 23],\n",
       "       [7721, 8291, 22],\n",
       "       [6373, 6685, 42],\n",
       "       ...,\n",
       "       [3585, 4045, 32],\n",
       "       [7752, 4662, 5],\n",
       "       [10898, 7595, 23]], dtype=object)"
      ]
     },
     "execution_count": 339,
     "metadata": {},
     "output_type": "execute_result"
    }
   ],
   "source": [
    "#aplicar encoder\n",
    "#podermo codificar atriutos no numericos segun una escala\n",
    "\n",
    "le = LabelEncoder()\n",
    "x7[:,0] = le.fit_transform(x7[:,0])\n",
    "x7[:,1] = le.fit_transform(x7[:,1])\n",
    "x7[:,2] = le.fit_transform(x7[:,2])\n",
    "x7"
   ]
  },
  {
   "cell_type": "code",
   "execution_count": 340,
   "metadata": {},
   "outputs": [],
   "source": [
    "#dividimos los datos para poder tener datos para entrenamiento y otros para test\n",
    "#se usa sckikit learn para llamar a la funcion split y lo dividimos en 80/20\n",
    "from sklearn.model_selection import train_test_split\n",
    "x_train7, x_test7, y_train7, y_test7 = train_test_split(x7,y7, test_size=0.20, random_state=0)"
   ]
  },
  {
   "cell_type": "code",
   "execution_count": 341,
   "metadata": {},
   "outputs": [
    {
     "data": {
      "text/plain": [
       "GaussianNB()"
      ]
     },
     "execution_count": 341,
     "metadata": {},
     "output_type": "execute_result"
    }
   ],
   "source": [
    "#crear modelo NB\n",
    "from sklearn.naive_bayes import GaussianNB\n",
    "classifier=GaussianNB()\n",
    "classifier.fit(x_train7,y_train7)"
   ]
  },
  {
   "cell_type": "code",
   "execution_count": 342,
   "metadata": {},
   "outputs": [
    {
     "data": {
      "text/plain": [
       "array([1, 1, 1, ..., 1, 1, 1], dtype=int64)"
      ]
     },
     "execution_count": 342,
     "metadata": {},
     "output_type": "execute_result"
    }
   ],
   "source": [
    "#predecimos la varible dependiente usando las variables independientes del 20%\n",
    "y_pred7 = classifier.predict(x_test7)\n",
    "y_pred7"
   ]
  },
  {
   "cell_type": "code",
   "execution_count": 343,
   "metadata": {},
   "outputs": [],
   "source": [
    "#generarmos la matriz de confucion y precision\n",
    "from sklearn.metrics import confusion_matrix,accuracy_score\n",
    "cm7 = confusion_matrix(y_test7, y_pred7) #crea la matriz de confucion \n",
    "ac7 = accuracy_score(y_test7,y_pred7) #define la presicion"
   ]
  },
  {
   "cell_type": "code",
   "execution_count": 344,
   "metadata": {},
   "outputs": [
    {
     "data": {
      "text/plain": [
       "array([[   0,  893],\n",
       "       [   0, 1632]], dtype=int64)"
      ]
     },
     "execution_count": 344,
     "metadata": {},
     "output_type": "execute_result"
    }
   ],
   "source": [
    "#matriz de confusion\n",
    "cm7"
   ]
  },
  {
   "cell_type": "code",
   "execution_count": 345,
   "metadata": {},
   "outputs": [
    {
     "data": {
      "text/plain": [
       "0.6463366336633664"
      ]
     },
     "execution_count": 345,
     "metadata": {},
     "output_type": "execute_result"
    }
   ],
   "source": [
    "#presicion\n",
    "ac7"
   ]
  },
  {
   "cell_type": "code",
   "execution_count": 346,
   "metadata": {},
   "outputs": [
    {
     "data": {
      "image/png": "[encoded data removed]",
      "text/plain": [
       "<Figure size 432x288 with 2 Axes>"
      ]
     },
     "metadata": {
      "needs_background": "light"
     },
     "output_type": "display_data"
    }
   ],
   "source": [
    "#ploteamos la matriz de confucion(heatmap)\n",
    "import seaborn as sns\n",
    "\n",
    "ax=plt.subplot()\n",
    "sns.heatmap(cm7,annot=True, fmt='g', ax=ax, cmap='Greens'); ##annot= true crea abitacuibes be las celdas para crear etiquetas, fmt=g quita la notacion cientifica para quitar las celtas , cmap mostrar colores en verdes, ax es el subplot parte del plot\n",
    "\n",
    "ax.set_xlabel('Predicciones');ax.set_ylabel('Valores reales'); #etiquetas para los ejes\n",
    "ax.set_title('Matriz de Confusion');#titulos\n",
    "ax.xaxis.set_ticklabels(['True','False']); ax.yaxis.set_ticklabels(['True','False']);#son etiquetas de clasificacion de la matriz"
   ]
  }
 ],
 "metadata": {
  "interpreter": {
   "hash": "b3ba2566441a7c06988d0923437866b63cedc61552a5af99d1f4fb67d367b25f"
  },
  "kernelspec": {
   "display_name": "Python 3.8.8 64-bit ('base': conda)",
   "language": "python",
   "name": "python3"
  },
  "language_info": {
   "codemirror_mode": {
    "name": "ipython",
    "version": 3
   },
   "file_extension": ".py",
   "mimetype": "text/x-python",
   "name": "python",
   "nbconvert_exporter": "python",
   "pygments_lexer": "ipython3",
   "version": "3.8.8"
  },
  "orig_nbformat": 4
 },
 "nbformat": 4,
 "nbformat_minor": 2
}
