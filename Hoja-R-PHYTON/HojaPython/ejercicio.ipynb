{
 "cells": [
  {
   "cell_type": "markdown",
   "metadata": {},
   "source": [
    "# Librerias"
   ]
  },
  {
   "cell_type": "code",
   "execution_count": 1,
   "metadata": {},
   "outputs": [],
   "source": [
    "#importar solo una parte from pandas import DataFrame as df\n",
    "import pandas as pd\n",
    "import numpy as np\n",
    "from matplotlib import pyplot as plt\n",
    "import pyodbc\n",
    "#comando que esta coriende que lo que se plotee se dibuje en el resultado, el % es para hacer llamadas externas a la sintaxis de python\n",
    "## ejemplo % pip install para intalar una libreria de python, se les conoce como magic funtions\n",
    "%matplotlib inline"
   ]
  },
  {
   "cell_type": "markdown",
   "metadata": {},
   "source": [
    "# a"
   ]
  },
  {
   "cell_type": "code",
   "execution_count": 2,
   "metadata": {},
   "outputs": [],
   "source": [
    "conexion = pyodbc.connect('Driver={SQL Server};'\n",
    "'Server=DESKTOP-34T1EIQ;'\n",
    "'Database=Admisiones_DWH;'\n",
    "'Trusted_Connection=yes;', timeout=5000)"
   ]
  },
  {
   "cell_type": "code",
   "execution_count": 23,
   "metadata": {},
   "outputs": [],
   "source": [
    "df=pd.read_sql(\"select e.*, c.NombreFacultad, CA.Genero, C.NombreCarrera, F.Year from Fact.Examen E inner join Dimension.Carrera C on (E.sk_Carrera=C.sk_Carrera) inner join Dimension.Candidato CA on (E.sk_candidato=CA.sk_Candidato) inner join Dimension.Fecha F on (E.DateKey=F.DateKey)\", conexion)"
   ]
  },
  {
   "cell_type": "markdown",
   "metadata": {},
   "source": [
    "# b"
   ]
  },
  {
   "cell_type": "markdown",
   "metadata": {},
   "source": [
    "## 1\n"
   ]
  },
  {
   "cell_type": "code",
   "execution_count": 5,
   "metadata": {},
   "outputs": [
    {
     "data": {
      "text/html": [
       "<div>\n",
       "<style scoped>\n",
       "    .dataframe tbody tr th:only-of-type {\n",
       "        vertical-align: middle;\n",
       "    }\n",
       "\n",
       "    .dataframe tbody tr th {\n",
       "        vertical-align: top;\n",
       "    }\n",
       "\n",
       "    .dataframe thead th {\n",
       "        text-align: right;\n",
       "    }\n",
       "</style>\n",
       "<table border=\"1\" class=\"dataframe\">\n",
       "  <thead>\n",
       "    <tr style=\"text-align: right;\">\n",
       "      <th></th>\n",
       "      <th>NombreFacultad</th>\n",
       "      <th>ConteoExamenes</th>\n",
       "    </tr>\n",
       "  </thead>\n",
       "  <tbody>\n",
       "    <tr>\n",
       "      <th>0</th>\n",
       "      <td>Arquitectura</td>\n",
       "      <td>9310</td>\n",
       "    </tr>\n",
       "    <tr>\n",
       "      <th>1</th>\n",
       "      <td>Ciencias Agricolas</td>\n",
       "      <td>3104</td>\n",
       "    </tr>\n",
       "    <tr>\n",
       "      <th>2</th>\n",
       "      <td>Ciencias Economicas</td>\n",
       "      <td>9266</td>\n",
       "    </tr>\n",
       "    <tr>\n",
       "      <th>3</th>\n",
       "      <td>Ciencias Politicas</td>\n",
       "      <td>9290</td>\n",
       "    </tr>\n",
       "    <tr>\n",
       "      <th>4</th>\n",
       "      <td>Ingeniería</td>\n",
       "      <td>9248</td>\n",
       "    </tr>\n",
       "    <tr>\n",
       "      <th>5</th>\n",
       "      <td>Medicina</td>\n",
       "      <td>9278</td>\n",
       "    </tr>\n",
       "  </tbody>\n",
       "</table>\n",
       "</div>"
      ],
      "text/plain": [
       "        NombreFacultad  ConteoExamenes\n",
       "0         Arquitectura            9310\n",
       "1   Ciencias Agricolas            3104\n",
       "2  Ciencias Economicas            9266\n",
       "3   Ciencias Politicas            9290\n",
       "4           Ingeniería            9248\n",
       "5             Medicina            9278"
      ]
     },
     "execution_count": 5,
     "metadata": {},
     "output_type": "execute_result"
    }
   ],
   "source": [
    "df.groupby(\"NombreFacultad\").count()[\"ID_Examen\"].reset_index(name=\"ConteoExamenes\")"
   ]
  },
  {
   "cell_type": "markdown",
   "metadata": {},
   "source": [
    "## 2"
   ]
  },
  {
   "cell_type": "code",
   "execution_count": 8,
   "metadata": {},
   "outputs": [
    {
     "data": {
      "text/html": [
       "<div>\n",
       "<style scoped>\n",
       "    .dataframe tbody tr th:only-of-type {\n",
       "        vertical-align: middle;\n",
       "    }\n",
       "\n",
       "    .dataframe tbody tr th {\n",
       "        vertical-align: top;\n",
       "    }\n",
       "\n",
       "    .dataframe thead th {\n",
       "        text-align: right;\n",
       "    }\n",
       "</style>\n",
       "<table border=\"1\" class=\"dataframe\">\n",
       "  <thead>\n",
       "    <tr style=\"text-align: right;\">\n",
       "      <th></th>\n",
       "      <th>Genero</th>\n",
       "      <th>ConteoExamenes</th>\n",
       "    </tr>\n",
       "  </thead>\n",
       "  <tbody>\n",
       "    <tr>\n",
       "      <th>0</th>\n",
       "      <td>F</td>\n",
       "      <td>24555</td>\n",
       "    </tr>\n",
       "    <tr>\n",
       "      <th>1</th>\n",
       "      <td>M</td>\n",
       "      <td>24941</td>\n",
       "    </tr>\n",
       "  </tbody>\n",
       "</table>\n",
       "</div>"
      ],
      "text/plain": [
       "  Genero  ConteoExamenes\n",
       "0      F           24555\n",
       "1      M           24941"
      ]
     },
     "execution_count": 8,
     "metadata": {},
     "output_type": "execute_result"
    }
   ],
   "source": [
    "df.groupby(\"Genero\").count()[\"ID_Examen\"].reset_index(name=\"ConteoExamenes\")"
   ]
  },
  {
   "cell_type": "markdown",
   "metadata": {},
   "source": [
    "## 3"
   ]
  },
  {
   "cell_type": "code",
   "execution_count": 10,
   "metadata": {},
   "outputs": [
    {
     "data": {
      "text/html": [
       "<div>\n",
       "<style scoped>\n",
       "    .dataframe tbody tr th:only-of-type {\n",
       "        vertical-align: middle;\n",
       "    }\n",
       "\n",
       "    .dataframe tbody tr th {\n",
       "        vertical-align: top;\n",
       "    }\n",
       "\n",
       "    .dataframe thead th {\n",
       "        text-align: right;\n",
       "    }\n",
       "</style>\n",
       "<table border=\"1\" class=\"dataframe\">\n",
       "  <thead>\n",
       "    <tr style=\"text-align: right;\">\n",
       "      <th></th>\n",
       "      <th>NombreCarrera</th>\n",
       "      <th>Ingresos</th>\n",
       "    </tr>\n",
       "  </thead>\n",
       "  <tbody>\n",
       "    <tr>\n",
       "      <th>0</th>\n",
       "      <td>Admin de Empresas</td>\n",
       "      <td>1460764.10</td>\n",
       "    </tr>\n",
       "    <tr>\n",
       "      <th>1</th>\n",
       "      <td>Agronomia</td>\n",
       "      <td>1472798.49</td>\n",
       "    </tr>\n",
       "    <tr>\n",
       "      <th>2</th>\n",
       "      <td>Arquitecrtura</td>\n",
       "      <td>1472209.41</td>\n",
       "    </tr>\n",
       "    <tr>\n",
       "      <th>3</th>\n",
       "      <td>Ciencias sociales</td>\n",
       "      <td>1470349.57</td>\n",
       "    </tr>\n",
       "    <tr>\n",
       "      <th>4</th>\n",
       "      <td>Contador Publico y Auditor</td>\n",
       "      <td>1469065.60</td>\n",
       "    </tr>\n",
       "    <tr>\n",
       "      <th>5</th>\n",
       "      <td>Derecho internacional</td>\n",
       "      <td>1476007.22</td>\n",
       "    </tr>\n",
       "    <tr>\n",
       "      <th>6</th>\n",
       "      <td>Diseño Industrial</td>\n",
       "      <td>1472469.94</td>\n",
       "    </tr>\n",
       "    <tr>\n",
       "      <th>7</th>\n",
       "      <td>Diseño grafico</td>\n",
       "      <td>1476152.33</td>\n",
       "    </tr>\n",
       "    <tr>\n",
       "      <th>8</th>\n",
       "      <td>Enfermeria</td>\n",
       "      <td>1474101.49</td>\n",
       "    </tr>\n",
       "    <tr>\n",
       "      <th>9</th>\n",
       "      <td>Hoteleria</td>\n",
       "      <td>1471569.39</td>\n",
       "    </tr>\n",
       "    <tr>\n",
       "      <th>10</th>\n",
       "      <td>Ingenieria Industrial</td>\n",
       "      <td>1461358.00</td>\n",
       "    </tr>\n",
       "    <tr>\n",
       "      <th>11</th>\n",
       "      <td>Ingenieria Quimica</td>\n",
       "      <td>1456694.93</td>\n",
       "    </tr>\n",
       "    <tr>\n",
       "      <th>12</th>\n",
       "      <td>Ingenieria en Informatica y Sistemas</td>\n",
       "      <td>1470836.40</td>\n",
       "    </tr>\n",
       "    <tr>\n",
       "      <th>13</th>\n",
       "      <td>Medico y Cirujano</td>\n",
       "      <td>1467089.06</td>\n",
       "    </tr>\n",
       "    <tr>\n",
       "      <th>14</th>\n",
       "      <td>Relaciones politicas</td>\n",
       "      <td>1467561.05</td>\n",
       "    </tr>\n",
       "    <tr>\n",
       "      <th>15</th>\n",
       "      <td>Terapia respiratoria</td>\n",
       "      <td>1466011.39</td>\n",
       "    </tr>\n",
       "  </tbody>\n",
       "</table>\n",
       "</div>"
      ],
      "text/plain": [
       "                           NombreCarrera    Ingresos\n",
       "0                      Admin de Empresas  1460764.10\n",
       "1                              Agronomia  1472798.49\n",
       "2                          Arquitecrtura  1472209.41\n",
       "3                      Ciencias sociales  1470349.57\n",
       "4             Contador Publico y Auditor  1469065.60\n",
       "5                  Derecho internacional  1476007.22\n",
       "6                      Diseño Industrial  1472469.94\n",
       "7                         Diseño grafico  1476152.33\n",
       "8                             Enfermeria  1474101.49\n",
       "9                              Hoteleria  1471569.39\n",
       "10                 Ingenieria Industrial  1461358.00\n",
       "11                    Ingenieria Quimica  1456694.93\n",
       "12  Ingenieria en Informatica y Sistemas  1470836.40\n",
       "13                     Medico y Cirujano  1467089.06\n",
       "14                  Relaciones politicas  1467561.05\n",
       "15                  Terapia respiratoria  1466011.39"
      ]
     },
     "execution_count": 10,
     "metadata": {},
     "output_type": "execute_result"
    }
   ],
   "source": [
    "df.groupby(\"NombreCarrera\").sum()[\"Precio\"].reset_index(name=\"Ingresos\")"
   ]
  },
  {
   "cell_type": "markdown",
   "metadata": {},
   "source": [
    "## 4"
   ]
  },
  {
   "cell_type": "code",
   "execution_count": 15,
   "metadata": {},
   "outputs": [
    {
     "data": {
      "text/html": [
       "<div>\n",
       "<style scoped>\n",
       "    .dataframe tbody tr th:only-of-type {\n",
       "        vertical-align: middle;\n",
       "    }\n",
       "\n",
       "    .dataframe tbody tr th {\n",
       "        vertical-align: top;\n",
       "    }\n",
       "\n",
       "    .dataframe thead th {\n",
       "        text-align: right;\n",
       "    }\n",
       "</style>\n",
       "<table border=\"1\" class=\"dataframe\">\n",
       "  <thead>\n",
       "    <tr style=\"text-align: right;\">\n",
       "      <th></th>\n",
       "      <th>NombreFacultad</th>\n",
       "      <th>Promedio</th>\n",
       "    </tr>\n",
       "  </thead>\n",
       "  <tbody>\n",
       "    <tr>\n",
       "      <th>0</th>\n",
       "      <td>Arquitectura</td>\n",
       "      <td>74.974290</td>\n",
       "    </tr>\n",
       "    <tr>\n",
       "      <th>1</th>\n",
       "      <td>Ciencias Agricolas</td>\n",
       "      <td>74.608157</td>\n",
       "    </tr>\n",
       "    <tr>\n",
       "      <th>2</th>\n",
       "      <td>Ciencias Economicas</td>\n",
       "      <td>74.872658</td>\n",
       "    </tr>\n",
       "  </tbody>\n",
       "</table>\n",
       "</div>"
      ],
      "text/plain": [
       "        NombreFacultad   Promedio\n",
       "0         Arquitectura  74.974290\n",
       "1   Ciencias Agricolas  74.608157\n",
       "2  Ciencias Economicas  74.872658"
      ]
     },
     "execution_count": 15,
     "metadata": {},
     "output_type": "execute_result"
    }
   ],
   "source": [
    "dfPromedio=df.groupby(\"NombreFacultad\").mean()[\"NotaTotal\"].reset_index(name=\"Promedio\").head(3)\n",
    "dfPromedio"
   ]
  },
  {
   "cell_type": "markdown",
   "metadata": {},
   "source": [
    "# C"
   ]
  },
  {
   "cell_type": "markdown",
   "metadata": {},
   "source": [
    "## 1"
   ]
  },
  {
   "cell_type": "code",
   "execution_count": 17,
   "metadata": {},
   "outputs": [
    {
     "data": {
      "text/plain": [
       "([<matplotlib.patches.Wedge at 0x1f1c15d4e10>,\n",
       "  <matplotlib.patches.Wedge at 0x1f1c15e9588>,\n",
       "  <matplotlib.patches.Wedge at 0x1f1c15e9c88>,\n",
       "  <matplotlib.patches.Wedge at 0x1f1c160d3c8>,\n",
       "  <matplotlib.patches.Wedge at 0x1f1c160dac8>,\n",
       "  <matplotlib.patches.Wedge at 0x1f1c185f208>],\n",
       " [Text(0.913470699505598, 0.6128387072833714, 'Arquitectura'),\n",
       "  Text(0.2098381458110263, 1.0797999595122194, 'Ciencias Agricolas'),\n",
       "  Text(-0.6149243505668454, 0.9120680035391788, 'Ciencias Economicas'),\n",
       "  Text(-1.0780317930018875, -0.21874060728894396, 'Ciencias Politicas'),\n",
       "  Text(-0.21203085933070062, -1.0793715369100136, 'Ingeniería'),\n",
       "  Text(0.914713517691085, -0.6109821442179806, 'Medicina')],\n",
       " [Text(0.49825674518487156, 0.33427565851820257, '18.8%'),\n",
       "  Text(0.11445717044237796, 0.5889817960975742, '6.3%'),\n",
       "  Text(-0.33541328212737015, 0.4974916382940975, '18.7%'),\n",
       "  Text(-0.588017341637393, -0.11931305852124215, '18.8%'),\n",
       "  Text(-0.11565319599856397, -0.5887481110418256, '18.7%'),\n",
       "  Text(0.49893464601331905, -0.33326298775526214, '18.7%')])"
      ]
     },
     "execution_count": 17,
     "metadata": {},
     "output_type": "execute_result"
    },
    {
     "data": {
      "image/png": "[encoded data removed]",
      "text/plain": [
       "<Figure size 432x288 with 1 Axes>"
      ]
     },
     "metadata": {},
     "output_type": "display_data"
    }
   ],
   "source": [
    "dfConteoExamenes=df.groupby(\"NombreFacultad\").count()[\"ID_Examen\"].reset_index(name=\"ConteoExamenes\")\n",
    "plt.pie(dfConteoExamenes['ConteoExamenes'],labels=dfConteoExamenes.NombreFacultad,autopct='%1.1f%%')"
   ]
  },
  {
   "cell_type": "markdown",
   "metadata": {},
   "source": [
    "## 2"
   ]
  },
  {
   "cell_type": "code",
   "execution_count": 21,
   "metadata": {},
   "outputs": [
    {
     "data": {
      "text/plain": [
       "<BarContainer object of 16 artists>"
      ]
     },
     "execution_count": 21,
     "metadata": {},
     "output_type": "execute_result"
    },
    {
     "data": {
      "image/png": "[encoded data removed]",
      "text/plain": [
       "<Figure size 432x288 with 1 Axes>"
      ]
     },
     "metadata": {
      "needs_background": "light"
     },
     "output_type": "display_data"
    }
   ],
   "source": [
    "dfPromedioCarrera=df.groupby(\"NombreCarrera\").mean()[\"NotaTotal\"].reset_index(name=\"Promedio\")\n",
    "plt.barh(dfPromedioCarrera[\"NombreCarrera\"], dfPromedioCarrera[\"Promedio\"])"
   ]
  },
  {
   "cell_type": "markdown",
   "metadata": {},
   "source": [
    "## 3"
   ]
  },
  {
   "cell_type": "code",
   "execution_count": 24,
   "metadata": {},
   "outputs": [
    {
     "data": {
      "text/plain": [
       "[<matplotlib.lines.Line2D at 0x1f1c029d320>]"
      ]
     },
     "execution_count": 24,
     "metadata": {},
     "output_type": "execute_result"
    },
    {
     "data": {
      "image/png": "[encoded data removed]",
      "text/plain": [
       "<Figure size 432x288 with 1 Axes>"
      ]
     },
     "metadata": {
      "needs_background": "light"
     },
     "output_type": "display_data"
    }
   ],
   "source": [
    "dfPromedioCarrera=df.groupby([\"Year\"]).count()[\"ID_Examen\"].reset_index(name=\"Total\")\n",
    "plt.plot(dfPromedioCarrera[\"Year\"], dfPromedioCarrera[\"Total\"])"
   ]
  }
 ],
 "metadata": {
  "interpreter": {
   "hash": "7dbb69f2fe16ee411a1d001fc5a919d66021ed1f9a71b5ac22cd67380668a935"
  },
  "kernelspec": {
   "display_name": "Python 3.7.1 64-bit",
   "name": "python3"
  },
  "language_info": {
   "codemirror_mode": {
    "name": "ipython",
    "version": 3
   },
   "file_extension": ".py",
   "mimetype": "text/x-python",
   "name": "python",
   "nbconvert_exporter": "python",
   "pygments_lexer": "ipython3",
   "version": "3.7.1"
  },
  "orig_nbformat": 4
 },
 "nbformat": 4,
 "nbformat_minor": 2
}
